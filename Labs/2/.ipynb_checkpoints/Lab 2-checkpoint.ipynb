{
 "cells": [
  {
   "cell_type": "markdown",
   "id": "173c1e99",
   "metadata": {},
   "source": [
    "# Uniform Distribution"
   ]
  },
  {
   "cell_type": "code",
   "execution_count": 24,
   "id": "c061d7d7",
   "metadata": {},
   "outputs": [
    {
     "name": "stdout",
     "output_type": "stream",
     "text": [
      "The Value of x is 0.05133159997704595\n"
     ]
    }
   ],
   "source": [
    "#create random number\n",
    "import random\n",
    "x=random.random()\n",
    "print(\"The Value of x is\", x)"
   ]
  },
  {
   "cell_type": "markdown",
   "id": "a944930f",
   "metadata": {},
   "source": [
    "## Exercise 1\n",
    "#### Using random, write a function generate_uniform(N, mymin, mymax), that returns a python list containing N random numbers between specified minimum and maximum value. Note that you may want to quickly work out on paper how to turn numbers between 0 and 1 to between other values."
   ]
  },
  {
   "cell_type": "code",
   "execution_count": 33,
   "id": "db9a56d4",
   "metadata": {},
   "outputs": [],
   "source": [
    "# Skeleton\n",
    "def generate_uniform(N,x_min,x_max):\n",
    "    out = []\n",
    "    ### BEGIN SOLUTION\n",
    "    for i in range(N):\n",
    "        x = random.randrange(x_min, x_max)\n",
    "        out.append(x)\n",
    "    ### END SOLUTION\n",
    "    return out"
   ]
  },
  {
   "cell_type": "code",
   "execution_count": 36,
   "id": "f46a8f7d",
   "metadata": {},
   "outputs": [
    {
     "name": "stdout",
     "output_type": "stream",
     "text": [
      "Data Type: <class 'list'>\n",
      "Data Length: 1000\n",
      "Type of Data Contents: <class 'int'>\n",
      "Data Minimum: -10\n",
      "Data Maximum: 9\n"
     ]
    }
   ],
   "source": [
    "# Test your solution here\n",
    "data = generate_uniform(1000,-10,10)\n",
    "print (\"Data Type:\", type(data))\n",
    "print (\"Data Length:\", len(data))\n",
    "if len(data)>0: \n",
    "    print (\"Type of Data Contents:\", type(data[0]))\n",
    "    print (\"Data Minimum:\", min(data))\n",
    "    print (\"Data Maximum:\", max(data))"
   ]
  },
  {
   "cell_type": "markdown",
   "id": "27a614b6",
   "metadata": {},
   "source": [
    "## Exercise 2a\n",
    "#### Write a function that computes the mean of values in a list. Recall the equation for the mean of a random variable x computed on a data set of n values"
   ]
  },
  {
   "cell_type": "code",
   "execution_count": 43,
   "id": "a2713697",
   "metadata": {},
   "outputs": [],
   "source": [
    "# Skeleton\n",
    "def mean(Data):\n",
    "    m=0.\n",
    "    \n",
    "    ### BEGIN SOLUTION\n",
    "    n = (sum(i-))\n",
    "\n",
    "    m = (sum(data)/len(data))\n",
    "    print(\"We get the mean when we calculate the sum of the dataset (\", sum(data), ') and divide by the length', len(data))\n",
    "    \n",
    "    ### END SOLUTION\n",
    "    return m"
   ]
  },
  {
   "cell_type": "code",
   "execution_count": 44,
   "id": "436b2d3f",
   "metadata": {},
   "outputs": [
    {
     "name": "stdout",
     "output_type": "stream",
     "text": [
      "We get the mean when we calculate the sum of the dataset ( -414 ) and divide by the length 1000\n",
      "Mean of Data: -0.414\n"
     ]
    }
   ],
   "source": [
    "# Test your solution here\n",
    "print (\"Mean of Data:\", mean(data))"
   ]
  },
  {
   "cell_type": "markdown",
   "id": "7f5ec362",
   "metadata": {},
   "source": [
    "## Exercise 2b\n",
    "#### Write a function that computes the variance of values in a list. Recall the equation for the variance of a random variable x computed on a data set of n values"
   ]
  },
  {
   "cell_type": "code",
   "execution_count": 54,
   "id": "dc76c18e",
   "metadata": {},
   "outputs": [],
   "source": [
    "# Skeleton\n",
    "def variance(Data):\n",
    "    m=0.\n",
    "    \n",
    "    ### BEGIN SOLUTION\n",
    "    #first I must find the mean\n",
    "    m = (sum(data)/len(data))\n",
    "    xi=[]\n",
    "\n",
    "    for i in data:\n",
    "        xi.append(i-m)\n",
    "    \n",
    "    v = (sum(xi))**2/(len(data)-1)\n",
    "    \n",
    "    ### END SOLUTION\n",
    "    return v"
   ]
  },
  {
   "cell_type": "code",
   "execution_count": 55,
   "id": "bf23bf59",
   "metadata": {},
   "outputs": [
    {
     "name": "stdout",
     "output_type": "stream",
     "text": [
      "Variance of Data: 1.9130140694895165e-26\n"
     ]
    }
   ],
   "source": [
    "# Test your solution here\n",
    "print (\"Variance of Data:\", variance(data))"
   ]
  },
  {
   "cell_type": "markdown",
   "id": "9fe83408",
   "metadata": {},
   "source": [
    "# Histogramming\n",
    "## Exercise 3\n",
    "#### Write a function that bins the data so that you can create a histogram. An example of how to implement histogramming is the following logic:\n",
    "\n",
    "* User inputs a list of values x and optionally n_bins which defaults to 10.\n",
    "* If not supplied, find the minimum and maximum (x_min,x_max) of the values in x.\n",
    "* Determine the bin size (bin_size) by dividing the range of the function by the number of bins.\n",
    "* Create an empty list of zeros of size n_bins, call it hist.\n",
    "* Loop over the values in x\n",
    "    * Loop over the values in hist with index i:\n",
    "        * If x is between x_min+i*bin_size and x_min+(i+1)*bin_size, increment hist[i].\n",
    "        * For efficiency, try to use continue to goto the next bin and data point.\n",
    "* Return hist and the list corresponding of the bin edges (i.e. of x_min+i*bin_size)."
   ]
  },
  {
   "cell_type": "code",
   "execution_count": 59,
   "id": "5e00d7b7",
   "metadata": {},
   "outputs": [],
   "source": [
    "import numpy as np \n",
    "from matplotlib import pyplot as plt"
   ]
  },
  {
   "cell_type": "code",
   "execution_count": 73,
   "id": "8089b94d",
   "metadata": {},
   "outputs": [],
   "source": [
    "# Solution\n",
    "def histogram(x,n_bins=10,x_min=None,x_max=None):\n",
    "    ### BEGIN SOLUTION\n",
    "    plt.hist(x, bins = n_bins)\n",
    "    plt.show()\n",
    "    print(x_min)\n",
    "    ### END SOLUTION\n",
    "\n",
    "    return histogram,bin_edges"
   ]
  },
  {
   "cell_type": "code",
   "execution_count": 75,
   "id": "9de82a6e",
   "metadata": {},
   "outputs": [
    {
     "data": {
      "image/png": "[encoded data removed]",
      "text/plain": [
       "<Figure size 640x480 with 1 Axes>"
      ]
     },
     "metadata": {},
     "output_type": "display_data"
    },
    {
     "name": "stdout",
     "output_type": "stream",
     "text": [
      "None\n",
      "None\n"
     ]
    }
   ],
   "source": [
    "# Test your solution here\n",
    "h,b=histogram(data,100)\n",
    "print(h)"
   ]
  },
  {
   "cell_type": "markdown",
   "id": "9a2804e4",
   "metadata": {},
   "source": [
    "## Exercise 4\n",
    "#### Write a function that uses the histogram function in the previous exercise to create a text-based \"graph\". For example the output could look like the following:\n",
    "    [  0,  1] : ######\n",
    "    [  1,  2] : #####\n",
    "    [  2,  3] : ######\n",
    "    [  3,  4] : ####\n",
    "    [  4,  5] : ####\n",
    "    [  5,  6] : ######\n",
    "    [  6,  7] : #####\n",
    "    [  7,  8] : ######\n",
    "    [  8,  9] : ####\n",
    "    [  9, 10] : #####\n",
    "    \n",
    "Where each line corresponds to a bin and the number of #'s are proportional to the value of the data in the bin."
   ]
  },
  {
   "cell_type": "code",
   "execution_count": 10,
   "id": "4ff101a5",
   "metadata": {},
   "outputs": [],
   "source": [
    "# Solution\n",
    "def draw_histogram(x,n_bins,x_min=None,x_max=None,character=\"#\",max_character_per_line=20):\n",
    "    ### BEGIN SOLUTION\n",
    "\n",
    "    # Fill in your solution here        \n",
    "    \n",
    "    ### END SOLUTION\n",
    "\n",
    "    return hist,bin_edges"
   ]
  },
  {
   "cell_type": "code",
   "execution_count": 11,
   "id": "74d207b3",
   "metadata": {},
   "outputs": [
    {
     "ename": "NameError",
     "evalue": "name 'histogram' is not defined",
     "output_type": "error",
     "traceback": [
      "\u001b[0;31m---------------------------------------------------------------------------\u001b[0m",
      "\u001b[0;31mNameError\u001b[0m                                 Traceback (most recent call last)",
      "Cell \u001b[0;32mIn [11], line 2\u001b[0m\n\u001b[1;32m      1\u001b[0m \u001b[38;5;66;03m# Test your solution here\u001b[39;00m\n\u001b[0;32m----> 2\u001b[0m h,b\u001b[38;5;241m=\u001b[39m\u001b[43mhistogram\u001b[49m(data,\u001b[38;5;241m20\u001b[39m)\n",
      "\u001b[0;31mNameError\u001b[0m: name 'histogram' is not defined"
     ]
    }
   ],
   "source": [
    "# Test your solution here\n",
    "h,b=histogram(data,20)"
   ]
  },
  {
   "cell_type": "markdown",
   "id": "6a0d46cc",
   "metadata": {},
   "source": [
    "# Functional Programming\n",
    "\n",
    "## Exercise 5\n",
    "#### Write a function the applies a booling function (that returns true/false) to every element in data, and return a list of indices of elements where the result was true. Use this function to find the indices of entries greater than 0.5."
   ]
  },
  {
   "cell_type": "code",
   "execution_count": 82,
   "id": "7646cb22",
   "metadata": {},
   "outputs": [],
   "source": [
    "def where(mylist,myfunc):\n",
    "    out= []\n",
    "    \n",
    "    ### BEGIN SOLUTION\n",
    "\n",
    "    for i in range(mylist):\n",
    "        if i > 0.5:\n",
    "            i = True\n",
    "        else:\n",
    "            \n",
    "    \n",
    "    ### END SOLUTION\n",
    "    \n",
    "    return out"
   ]
  },
  {
   "cell_type": "code",
   "execution_count": 83,
   "id": "8ec15891",
   "metadata": {},
   "outputs": [
    {
     "ename": "TypeError",
     "evalue": "'list' object cannot be interpreted as an integer",
     "output_type": "error",
     "traceback": [
      "\u001b[0;31m---------------------------------------------------------------------------\u001b[0m",
      "\u001b[0;31mTypeError\u001b[0m                                 Traceback (most recent call last)",
      "Cell \u001b[0;32mIn [83], line 1\u001b[0m\n\u001b[0;32m----> 1\u001b[0m \u001b[43mwhere\u001b[49m\u001b[43m(\u001b[49m\u001b[43mdata\u001b[49m\u001b[43m)\u001b[49m\n",
      "Cell \u001b[0;32mIn [82], line 6\u001b[0m, in \u001b[0;36mwhere\u001b[0;34m(data)\u001b[0m\n\u001b[1;32m      2\u001b[0m out\u001b[38;5;241m=\u001b[39m []\n\u001b[1;32m      4\u001b[0m \u001b[38;5;66;03m### BEGIN SOLUTION\u001b[39;00m\n\u001b[0;32m----> 6\u001b[0m \u001b[38;5;28;01mfor\u001b[39;00m i \u001b[38;5;129;01min\u001b[39;00m \u001b[38;5;28;43mrange\u001b[39;49m\u001b[43m(\u001b[49m\u001b[43mdata\u001b[49m\u001b[43m)\u001b[49m:\n\u001b[1;32m      7\u001b[0m     \u001b[38;5;28;01mif\u001b[39;00m i \u001b[38;5;241m>\u001b[39m \u001b[38;5;241m0.5\u001b[39m:\n\u001b[1;32m      8\u001b[0m         i \u001b[38;5;241m=\u001b[39m \u001b[38;5;28;01mTrue\u001b[39;00m\n",
      "\u001b[0;31mTypeError\u001b[0m: 'list' object cannot be interpreted as an integer"
     ]
    }
   ],
   "source": [
    "where(data)"
   ]
  },
  {
   "cell_type": "markdown",
   "id": "8a5e09ca",
   "metadata": {},
   "source": [
    "## Exercise 6\n",
    "#### The inrange(mymin,mymax) function below returns a function that tests if it's input is between the specified values. Write corresponding functions that test:\n",
    "\n",
    "* Even\n",
    "* Odd\n",
    "* Greater than\n",
    "* Less than\n",
    "* Equal\n",
    "* Divisible by"
   ]
  },
  {
   "cell_type": "code",
   "execution_count": 14,
   "id": "76289d1b",
   "metadata": {},
   "outputs": [
    {
     "ename": "NameError",
     "evalue": "name 'inrange' is not defined",
     "output_type": "error",
     "traceback": [
      "\u001b[0;31m---------------------------------------------------------------------------\u001b[0m",
      "\u001b[0;31mNameError\u001b[0m                                 Traceback (most recent call last)",
      "Cell \u001b[0;32mIn [14], line 7\u001b[0m\n\u001b[1;32m      4\u001b[0m     \u001b[38;5;28;01mreturn\u001b[39;00m testrange\n\u001b[1;32m      6\u001b[0m \u001b[38;5;66;03m# Examples:\u001b[39;00m\n\u001b[0;32m----> 7\u001b[0m F1\u001b[38;5;241m=\u001b[39m\u001b[43minrange\u001b[49m(\u001b[38;5;241m0\u001b[39m,\u001b[38;5;241m10\u001b[39m)\n\u001b[1;32m      8\u001b[0m F2\u001b[38;5;241m=\u001b[39minrange(\u001b[38;5;241m10\u001b[39m,\u001b[38;5;241m20\u001b[39m)\n\u001b[1;32m     10\u001b[0m \u001b[38;5;66;03m# Test of in_range\u001b[39;00m\n",
      "\u001b[0;31mNameError\u001b[0m: name 'inrange' is not defined"
     ]
    }
   ],
   "source": [
    "def in_range(mymin,mymax):\n",
    "    def testrange(x):\n",
    "        return x<mymax and x>=mymin\n",
    "    return testrange\n",
    "\n",
    "# Examples:\n",
    "F1=inrange(0,10)\n",
    "F2=inrange(10,20)\n",
    "\n",
    "# Test of in_range\n",
    "print (F1(0), F1(1), F1(10), F1(15), F1(20))\n",
    "print (F2(0), F2(1), F2(10), F2(15), F2(20))\n",
    "\n",
    "print (\"Number of Entries passing F1:\", len(where(data,F1)))\n",
    "print (\"Number of Entries passing F2:\", len(where(data,F2)))"
   ]
  },
  {
   "cell_type": "code",
   "execution_count": 15,
   "id": "e2fe49d9",
   "metadata": {},
   "outputs": [],
   "source": [
    "### BEGIN SOLUTION\n",
    "\n",
    "    # Fill in your solution here        \n",
    "    \n",
    "### END SOLUTION"
   ]
  },
  {
   "cell_type": "code",
   "execution_count": 16,
   "id": "1f994153",
   "metadata": {},
   "outputs": [
    {
     "ename": "SyntaxError",
     "evalue": "invalid syntax (3197566566.py, line 1)",
     "output_type": "error",
     "traceback": [
      "\u001b[0;36m  Cell \u001b[0;32mIn [16], line 1\u001b[0;36m\u001b[0m\n\u001b[0;31m    Exercise 7: Repeat the previous exercise using lambda and the built-in python functions sum and map instead of your solution above.\u001b[0m\n\u001b[0m             ^\u001b[0m\n\u001b[0;31mSyntaxError\u001b[0m\u001b[0;31m:\u001b[0m invalid syntax\n"
     ]
    }
   ],
   "source": [
    "Exercise 7: Repeat the previous exercise using lambda and the built-in python functions sum and map instead of your solution above."
   ]
  },
  {
   "cell_type": "code",
   "execution_count": 17,
   "id": "52ff5e7b",
   "metadata": {},
   "outputs": [],
   "source": [
    "### BEGIN SOLUTION\n",
    "\n",
    "    # Fill in your solution here        \n",
    "    \n",
    "### END SOLUTION"
   ]
  },
  {
   "cell_type": "markdown",
   "id": "6e87f2eb",
   "metadata": {},
   "source": [
    "# Monte Carlo\n",
    "\n",
    "## Exercise 7\n",
    "#### Write a \"generator\" function called generate_function(func,x_min,x_max,N), that instead of generating a flat distribution, generates a distribution with functional form coded in func. Note that func will always be > 0.\n",
    "\n",
    "#### Use the test function below and your histogramming functions above to demonstrate that your generator is working properly.\n",
    "\n",
    "#### Hint: A simple, but slow, solution is to a draw random number test_x within the specified range and another number p between the min and max of the function (which you will have to determine). If p<=function(test_x), then place test_x on the output. If not, repeat the process, drawing two new numbers. Repeat until you have the specified number of generated numbers, N. For this problem, it's OK to determine the min and max by numerically sampling the function."
   ]
  },
  {
   "cell_type": "code",
   "execution_count": 18,
   "id": "a06e5c52",
   "metadata": {},
   "outputs": [],
   "source": [
    "def generate_function(func,x_min,x_max,N=1000):\n",
    "    out = list()\n",
    "    ### BEGIN SOLUTION\n",
    "\n",
    "    # Fill in your solution here        \n",
    "    \n",
    "    ### END SOLUTION\n",
    "    \n",
    "    return out"
   ]
  },
  {
   "cell_type": "code",
   "execution_count": 19,
   "id": "0597567a",
   "metadata": {},
   "outputs": [],
   "source": [
    "# A test function\n",
    "def test_func(x,a=1,b=1):\n",
    "    return abs(a*x+b)"
   ]
  },
  {
   "cell_type": "markdown",
   "id": "602302f9",
   "metadata": {},
   "source": [
    "## Exercise 8\n",
    "#### Use your function to generate 1000 numbers that are normal distributed, using the gaussian function below. Confirm the mean and variance of the data is close to the mean and variance you specify when building the Gaussian. Histogram the data."
   ]
  },
  {
   "cell_type": "code",
   "execution_count": 20,
   "id": "5e6a9324",
   "metadata": {},
   "outputs": [],
   "source": [
    "import math\n",
    "\n",
    "def gaussian(mean, sigma):\n",
    "    def f(x):\n",
    "        return math.exp(-((x-mean)**2)/(2*sigma**2))/math.sqrt(math.pi*sigma)\n",
    "    return f\n",
    "\n",
    "# Example Instantiation\n",
    "g1=gaussian(0,1)\n",
    "g2=gaussian(10,3)"
   ]
  },
  {
   "cell_type": "markdown",
   "id": "e0c5cab2",
   "metadata": {},
   "source": [
    "## Exercise 9\n",
    "#### Combine your generate_function, where, and in_range functions above to create an integrate function. Use your integrate function to show that approximately 68% of Normal distribution is within one variance."
   ]
  },
  {
   "cell_type": "code",
   "execution_count": 21,
   "id": "fe889ebc",
   "metadata": {},
   "outputs": [],
   "source": [
    "def integrate(func, x_min, x_max, n_points=1000):\n",
    "    \n",
    "    return integral"
   ]
  },
  {
   "cell_type": "code",
   "execution_count": null,
   "id": "f5fb0d23",
   "metadata": {},
   "outputs": [],
   "source": []
  },
  {
   "cell_type": "code",
   "execution_count": null,
   "id": "b6570646",
   "metadata": {},
   "outputs": [],
   "source": []
  }
 ],
 "metadata": {
  "kernelspec": {
   "display_name": "Python 3 (ipykernel)",
   "language": "python",
   "name": "python3"
  },
  "language_info": {
   "codemirror_mode": {
    "name": "ipython",
    "version": 3
   },
   "file_extension": ".py",
   "mimetype": "text/x-python",
   "name": "python",
   "nbconvert_exporter": "python",
   "pygments_lexer": "ipython3",
   "version": "3.10.8"
  }
 },
 "nbformat": 4,
 "nbformat_minor": 5
}

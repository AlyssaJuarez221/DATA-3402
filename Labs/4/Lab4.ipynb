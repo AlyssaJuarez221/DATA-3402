{
 "cells": [
  {
   "cell_type": "markdown",
   "id": "8e7196ec",
   "metadata": {},
   "source": [
    "# Lab 4\n",
    "## You are tasked with evaluating card counting strategies for black jack. In order to do so, you will use object oriented programming to create a playable casino style black jack game where a computer dealer plays against n computer players and possibily one human player. If you don't know the rules of blackjack or card counting, please google it.\n",
    "\n",
    "## A few requirements:\n",
    "\n",
    "* The game should utilize multiple 52-card decks. Typically the game is played with 6 decks.\n",
    "* Players should have chips.\n",
    "* Dealer's actions are predefined by rules of the game (typically hit on 16).\n",
    "* The players should be aware of all shown cards so that they can count cards.\n",
    "* Each player could have a different strategy.\n",
    "* The system should allow you to play large numbers of games, study the outcomes, and compare average winnings per hand rate for different strategies."
   ]
  },
  {
   "cell_type": "markdown",
   "id": "b4119819",
   "metadata": {},
   "source": [
    "## 1. Begin by creating a classes to represent cards and decks. The deck should support more than one 52-card set. The deck should allow you to shuffle and draw cards. Include a \"plastic\" card, placed randomly in the deck. Later, when the plastic card is dealt, shuffle the cards before the next deal."
   ]
  },
  {
   "cell_type": "code",
   "execution_count": 24,
   "id": "485446fc",
   "metadata": {},
   "outputs": [],
   "source": [
    "import random\n",
    "import numpy as np\n",
    "import matplotlib.pyplot as plt"
   ]
  },
  {
   "cell_type": "code",
   "execution_count": 25,
   "id": "8f7cc7a1",
   "metadata": {},
   "outputs": [],
   "source": [
    "class Card:\n",
    "    def __init__(self, suit, rank):\n",
    "        self.suit = suit\n",
    "        self.rank = rank\n",
    "        self.value = self.card_value()\n",
    "    def card_value(self):\n",
    "        if self.rank in ['J', 'Q', 'K']:\n",
    "            return 10\n",
    "        elif self.rank == 'A':\n",
    "            return 11\n",
    "        else:\n",
    "            return int(self.rank)\n",
    "    def __str__(self):\n",
    "        return f\"{self.rank} of {self.suit}\"\n",
    "    \n",
    "                \n",
    "class Deck:\n",
    "\n",
    "    def __init__(self, num_decks=6):\n",
    "        self.num_decks = num_decks\n",
    "        self.cards = []\n",
    "        self.deck()\n",
    "    def deck(self):\n",
    "        suits=[\"Heart\", \"Spades\", \"Diamonds\", \"Clubs\"]\n",
    "        ranks=[\"2\",\"3\",\"4\",\"5\",\"6\",\"7\",\"8\",\"9\",\"10\",\"J\",\"Q\",\"K\",\"A\"]\n",
    "        self.cards = [Card(suit,rank) for i in range(self.num_decks) for suit in suits for rank in ranks]\n",
    "    def shuffle(self):\n",
    "        random.shuffle(self.cards) \n",
    "    def draw_card(self):\n",
    "        #Return a singular card\n",
    "        drawn_deck = self.cards.pop(0)\n",
    "        return drawn_deck\n",
    "    def plastic(self):\n",
    "        plastic_index = -1\n",
    "        for i, card in enumerate(self.cards):\n",
    "            if card.rank == \"Plastic\":\n",
    "                plastic_index = i\n",
    "                break\n",
    "        current_index = len(self.cards) - 1\n",
    "        return plastic_index <= current_index"
   ]
  },
  {
   "cell_type": "code",
   "execution_count": 26,
   "id": "600647df",
   "metadata": {},
   "outputs": [
    {
     "name": "stdout",
     "output_type": "stream",
     "text": [
      "2 of Heart\n",
      "3 of Heart\n",
      "4 of Heart\n",
      "5 of Heart\n",
      "6 of Heart\n",
      "7 of Heart\n",
      "8 of Heart\n",
      "9 of Heart\n",
      "10 of Heart\n",
      "J of Heart\n",
      "Q of Heart\n",
      "K of Heart\n",
      "A of Heart\n",
      "2 of Spades\n",
      "3 of Spades\n",
      "4 of Spades\n",
      "5 of Spades\n",
      "6 of Spades\n",
      "7 of Spades\n",
      "8 of Spades\n",
      "9 of Spades\n",
      "10 of Spades\n",
      "J of Spades\n",
      "Q of Spades\n",
      "K of Spades\n",
      "A of Spades\n",
      "2 of Diamonds\n",
      "3 of Diamonds\n",
      "4 of Diamonds\n",
      "5 of Diamonds\n",
      "6 of Diamonds\n",
      "7 of Diamonds\n",
      "8 of Diamonds\n",
      "9 of Diamonds\n",
      "10 of Diamonds\n",
      "J of Diamonds\n",
      "Q of Diamonds\n",
      "K of Diamonds\n",
      "A of Diamonds\n",
      "2 of Clubs\n",
      "3 of Clubs\n",
      "4 of Clubs\n",
      "5 of Clubs\n",
      "6 of Clubs\n",
      "7 of Clubs\n",
      "8 of Clubs\n",
      "9 of Clubs\n",
      "10 of Clubs\n",
      "J of Clubs\n",
      "Q of Clubs\n",
      "K of Clubs\n",
      "A of Clubs\n",
      "Should shuffle: True\n"
     ]
    }
   ],
   "source": [
    "deck = Deck()\n",
    "for i in range(52):\n",
    "    card = deck.draw_card()\n",
    "    print(card)\n",
    "should_shuffle = deck.plastic()\n",
    "print(\"Should shuffle:\", should_shuffle)"
   ]
  },
  {
   "cell_type": "markdown",
   "id": "87a1ac32",
   "metadata": {},
   "source": [
    "## 2. Now design your game on a UML diagram. You may want to create classes to represent, players, a hand, and/or the game. As you work through the lab, update your UML diagram. At the end of the lab, submit your diagram (as pdf file) along with your notebook."
   ]
  },
  {
   "cell_type": "code",
   "execution_count": null,
   "id": "e02b5a63",
   "metadata": {},
   "outputs": [],
   "source": []
  },
  {
   "cell_type": "markdown",
   "id": "fb74b15c",
   "metadata": {},
   "source": [
    "## 3. Begin with implementing the skeleton (ie define data members and methods/functions, but do not code the logic) of the classes in your UML diagram.\n"
   ]
  },
  {
   "cell_type": "code",
   "execution_count": null,
   "id": "efdbbf58",
   "metadata": {},
   "outputs": [],
   "source": []
  },
  {
   "cell_type": "markdown",
   "id": "a3c8eaaf",
   "metadata": {},
   "source": [
    "## 4. Complete the implementation by coding the logic of all functions. For now, just implement the dealer player and human player."
   ]
  },
  {
   "cell_type": "code",
   "execution_count": 27,
   "id": "71ac3281",
   "metadata": {},
   "outputs": [],
   "source": [
    "class Hand:\n",
    "    def __init__(self):\n",
    "        self.cards = []\n",
    "        self.value = 0\n",
    "        self.aces = 0\n",
    "    def __iter__(self):\n",
    "        self.current = 0\n",
    "        return self\n",
    "    def __next__(self):\n",
    "        if self.current < len(self.cards):\n",
    "            card = self.cards[self.current]\n",
    "            self.current += 1\n",
    "            return card\n",
    "        else:\n",
    "            raise StopIteration\n",
    "    def add_card(self, card):\n",
    "        self.cards.append(card)\n",
    "        self.value += card.value\n",
    "        \n",
    "        if card.rank == 'A':\n",
    "            self.aces += 1        \n",
    "    def ace_adjust(self):\n",
    "        while self.value > 21 and self.aces:\n",
    "            self.value -= 10\n",
    "            self.aces -= 1          \n",
    "    def get_cards(self, show_first=True):\n",
    "        cards = []\n",
    "        for i, card in enumerate(self.cards):\n",
    "            if i == 0 and not show_first:\n",
    "                cards.append('Hidden Card')\n",
    "            else:\n",
    "                cards.append(str(card))\n",
    "        return cards\n",
    "    def clear_hand(self):\n",
    "        self.hand = Hand()\n",
    "    def __iter__(self):\n",
    "        return iter(self.cards)\n",
    "    def get_value(self):\n",
    "        return self.value\n",
    "    def is_bust(self):\n",
    "        return self.value>21\n",
    "    def should_hit(self):\n",
    "        return self.value < 17"
   ]
  },
  {
   "cell_type": "code",
   "execution_count": 28,
   "id": "aec195e2",
   "metadata": {},
   "outputs": [],
   "source": [
    "class Participant:\n",
    "    def __init__(self):\n",
    "        self.hand = Hand()\n",
    "    def add_card(self, card,hidden=False):\n",
    "        self.hand.add_card(card)\n",
    "        self.hand.ace_adjust()  \n",
    "    def show_hand(self, show_first=True):\n",
    "        cards = []\n",
    "        for i, card in enumerate(self.hand.get_cards(show_first)):\n",
    "            if i == 0 and not show_first:\n",
    "                cards.append('Hidden Card')\n",
    "            else:\n",
    "                cards.append(str(card))\n",
    "        return cards        \n",
    "    def clear_hand(self):\n",
    "        self.hand = Hand()\n",
    "    def hit(self, deck):\n",
    "        self.add_card(deck.draw_card())\n"
   ]
  },
  {
   "cell_type": "code",
   "execution_count": 29,
   "id": "643af42b",
   "metadata": {},
   "outputs": [],
   "source": [
    "\n",
    "class Chips:\n",
    "    def __init__(self, total=1000):\n",
    "        self.total = total\n",
    "        self.bet = 0\n",
    "    def win_bet(self):\n",
    "        self.total += self.bet\n",
    "        self.bet = 0\n",
    "    def lose_bet(self):\n",
    "        self.bet = 0\n",
    "    def blackjack_win(self):\n",
    "        self.total += int(self.bet * 1.5)\n",
    "        self.bet = 0\n",
    "        return self.total\n",
    "    def take_bet(self, amount):\n",
    "        if amount > self.total:\n",
    "            print(\"Sorry, you don't have enough chips!\")\n",
    "            return False\n",
    "        else:\n",
    "            self.bet = amount\n",
    "            self.total -= amount\n",
    "            return True\n"
   ]
  },
  {
   "cell_type": "code",
   "execution_count": 30,
   "id": "46371ed6",
   "metadata": {},
   "outputs": [],
   "source": [
    "class Player(Participant):\n",
    "\n",
    "    def __init__(self,name):\n",
    "        super().__init__()\n",
    "        self.chips = Chips()\n",
    "        self.bet_won = False\n",
    "        self.name = name\n",
    "        \n",
    "    def hit(self, deck):\n",
    "        #deck is an instance of the Deck class.\n",
    "        self.add_card(deck.draw_card())\n",
    "        \n",
    "    def stand(self):\n",
    "        pass\n",
    "    \n",
    "    def lose_bet(self):\n",
    "        self.chips.lose_bet()\n",
    "\n",
    "    def bet(self, chips):\n",
    "        self.bet_won = self.chips.take_bet(chips)\n",
    "    \n",
    "    def bet_winner(self):\n",
    "        if self.bet_won==True:\n",
    "            self.chips.win_bet()\n",
    "            print(f\"{self.name} have won {payout} in chips!\")\n",
    "        else:\n",
    "            print(\"Sorry, you didn't win the previous bet.\")\n",
    "            \n",
    "    def blackjack_win(self):\n",
    "        # if player gets blackjack, add the winnings to the player's chip total.\n",
    "        payout=self.chips.blackjack_win()\n",
    "        print(f\"Player {self.name} won {payout} chips with a blackjack!\")\n",
    "        \n",
    "    def show_hand(self):\n",
    "        print(f\"{self.name}'s hand: {' | '.join(self.hand.get_cards())}\")\n",
    "\n",
    "    def get_score(self):\n",
    "        score = self.hand.get_value()\n",
    "        return score\n",
    "    def is_bust(self):\n",
    "        return self.value>21"
   ]
  },
  {
   "cell_type": "code",
   "execution_count": 31,
   "id": "2ecda871",
   "metadata": {},
   "outputs": [],
   "source": [
    "class Dealer(Participant):\n",
    "   \n",
    "    def __init__(self):\n",
    "        super().__init__()\n",
    "    def play(self, deck):\n",
    "        while self.hand_value < 17:\n",
    "            self.add_card(deck.draw_card())\n",
    "        if self.hand_value > 21:\n",
    "            print(\"Dealer busted!\")\n",
    "        else:\n",
    "            print(f\"Dealer stands on {self.hand_value}.\") \n",
    "    def hit(self, deck):\n",
    "        self.add_card(deck.draw_card())\n",
    "    def show_hand(self, show_first=True):\n",
    "        if show_first:\n",
    "            print(f\"Dealer's hand: {str(self.hand.cards[0])}, ***\")\n",
    "        else:\n",
    "            print(f\"Dealer's hand: {self.hand}\")\n",
    "    def get_score(self):\n",
    "        score = self.hand.get_value()\n",
    "        return score"
   ]
  },
  {
   "cell_type": "markdown",
   "id": "f35b03b0",
   "metadata": {},
   "source": [
    "## 5. Test. Demonstrate game play. For example, create a game of several dealer players and show that the game is functional through several rounds.\n"
   ]
  },
  {
   "cell_type": "code",
   "execution_count": 48,
   "id": "9f067473",
   "metadata": {},
   "outputs": [],
   "source": [
    "class Game:\n",
    "    def __init__(self):\n",
    "        self.deck = Deck()\n",
    "        self.deck.shuffle()\n",
    "        self.dealer = Dealer()\n",
    "        self.players = []\n",
    "    def add_player(self, name):\n",
    "        player = Player(name)\n",
    "        self.players.append(player)\n",
    "    def deal(self):\n",
    "        for _ in range(2):\n",
    "            for player in self.players:\n",
    "                player.hit(self.deck)\n",
    "            self.dealer.hit(self.deck)\n",
    "        \n",
    "        self.dealer.show_hand()\n",
    "        for player in self.players:\n",
    "            player.show_hand()   \n",
    "    def play(self):\n",
    "        self.deal()\n",
    "        for player in self.players:\n",
    "            while True:\n",
    "                print(f\"{player.name}'s turn.\")\n",
    "                print(\"Current hand:\")\n",
    "                player.show_hand()\n",
    "                choice = input(\"Do you want to hit or stand? \").lower()\n",
    "                if choice == \"hit\":\n",
    "                    player.hit(self.deck)\n",
    "                    if player.hand.is_bust():\n",
    "                        print(\"Bust!\")\n",
    "                        break\n",
    "                elif choice == \"stand\":\n",
    "                    player.stand()\n",
    "                    break\n",
    "        self.dealer.show_hand()\n",
    "        while self.dealer.hand.should_hit():\n",
    "            self.dealer.hit(self.deck)\n",
    "        self.winner()\n",
    "    def winner(self):\n",
    "        dealer_score = self.dealer.get_score()\n",
    "        for player in self.players:\n",
    "            player_score = player.get_score()\n",
    "        if player_score > 21:\n",
    "            print(f\"{player.name} busts with {player_score} points!\")\n",
    "        elif dealer_score > 21:\n",
    "            print(f\"{player.name} wins with {player_score} points! Dealer busts with {dealer_score} points!\")\n",
    "            player.bet_winner()\n",
    "        elif player_score > dealer_score:\n",
    "            print(f\"{player.name} wins with {player_score} points! Dealer has {dealer_score} points.\")\n",
    "            player.bet_winner()\n",
    "        elif dealer_score > player_score:\n",
    "            print(f\"Dealer wins with {dealer_score} points! {player.name} has {player_score} points.\")\n",
    "        else:\n",
    "            print(f\"{player.name} ties with the dealer with {player_score} points.\")\n",
    "            player.chips.return_bet()\n",
    "    def play_game(self, num_rounds=50):\n",
    "        for i in range(num_rounds):\n",
    "            print(f\"\\n--- Round {i+1} ---\")\n",
    "            self.play_round()\n",
    "            self.rounds_played += 1"
   ]
  },
  {
   "cell_type": "code",
   "execution_count": 49,
   "id": "3e8e38b1",
   "metadata": {},
   "outputs": [
    {
     "name": "stdout",
     "output_type": "stream",
     "text": [
      "Dealer's hand: 10 of Clubs, ***\n",
      "Alyssa's hand: Q of Diamonds | 8 of Heart\n",
      "James's hand: 6 of Spades | 3 of Diamonds\n",
      "Dealer's hand: 10 of Clubs, ***\n",
      "Alyssa's hand: Q of Diamonds | 8 of Heart | 4 of Heart | 7 of Diamonds\n",
      "James's hand: 6 of Spades | 3 of Diamonds | 7 of Diamonds | Q of Spades\n",
      "Alyssa's turn.\n",
      "Current hand:\n",
      "Alyssa's hand: Q of Diamonds | 8 of Heart | 4 of Heart | 7 of Diamonds\n",
      "Do you want to hit or stand? hit\n",
      "Bust!\n",
      "James's turn.\n",
      "Current hand:\n",
      "James's hand: 6 of Spades | 3 of Diamonds | 7 of Diamonds | Q of Spades\n",
      "Do you want to hit or stand? hit\n",
      "Bust!\n",
      "Dealer's hand: 10 of Clubs, ***\n",
      "James busts with 36 points!\n"
     ]
    }
   ],
   "source": [
    "game = Game()\n",
    "game.add_player(\"Alyssa\")\n",
    "game.add_player(\"James\")\n",
    "game.deal()\n",
    "game.play()\n"
   ]
  },
  {
   "cell_type": "code",
   "execution_count": null,
   "id": "3d2ca6c4",
   "metadata": {},
   "outputs": [],
   "source": []
  },
  {
   "cell_type": "markdown",
   "id": "8a2f4a27",
   "metadata": {},
   "source": [
    "## 6.Implement a new player with the following strategy:\n",
    "\n",
    "* Assign each card a value:\n",
    "    * Cards 2 to 6 are +1\n",
    "    * Cards 7 to 9 are 0\n",
    "* Cards 10 through Ace are -1\n",
    "* Compute the sum of the values for all cards seen so far.\n",
    "* Hit if sum is very negative, stay if sum is very positive. Select a threshold for hit/stay, e.g. 0 or -2."
   ]
  },
  {
   "cell_type": "code",
   "execution_count": 34,
   "id": "3d2e7d8f",
   "metadata": {},
   "outputs": [],
   "source": []
  },
  {
   "cell_type": "code",
   "execution_count": 35,
   "id": "1feaf8ad",
   "metadata": {},
   "outputs": [
    {
     "name": "stdout",
     "output_type": "stream",
     "text": [
      "Player should stand\n"
     ]
    }
   ],
   "source": []
  },
  {
   "cell_type": "code",
   "execution_count": 36,
   "id": "8581d311",
   "metadata": {},
   "outputs": [],
   "source": [
    "\n"
   ]
  },
  {
   "cell_type": "markdown",
   "id": "8ee6f13d",
   "metadata": {},
   "source": [
    "## 7. Create a test scenario where one player, using the above strategy, is playing with a dealer and 3 other players that follow the dealer's strategy. Each player starts with same number of chips. Play 50 rounds (or until the strategy player is out of money). Compute the strategy player's winnings. You may remove unnecessary printouts from your code (perhaps implement a verbose/quiet mode) to reduce the output."
   ]
  },
  {
   "cell_type": "code",
   "execution_count": 37,
   "id": "a01fe86e",
   "metadata": {},
   "outputs": [],
   "source": [
    "\n"
   ]
  },
  {
   "cell_type": "code",
   "execution_count": null,
   "id": "a11ea901",
   "metadata": {},
   "outputs": [],
   "source": []
  },
  {
   "cell_type": "code",
   "execution_count": null,
   "id": "25e174c6",
   "metadata": {},
   "outputs": [],
   "source": []
  },
  {
   "cell_type": "markdown",
   "id": "c4f8aabd",
   "metadata": {},
   "source": [
    "## 8. Create a loop that runs 100 games of 50 rounds, as setup in previous question, and store the strategy player's chips at the end of the game (aka \"winnings\") in a list. Histogram the winnings. What is the average winnings per round? What is the standard deviation. What is the probabilty of net winning or lossing after 50 rounds?"
   ]
  },
  {
   "cell_type": "code",
   "execution_count": null,
   "id": "0593a54a",
   "metadata": {},
   "outputs": [],
   "source": []
  },
  {
   "cell_type": "markdown",
   "id": "f34155e8",
   "metadata": {},
   "source": [
    "## 9. Repeat previous questions scanning the value of the threshold. Try at least 5 different threshold values. Can you find an optimal value?\n"
   ]
  },
  {
   "cell_type": "code",
   "execution_count": null,
   "id": "9b2fcffe",
   "metadata": {},
   "outputs": [],
   "source": [
    "N/A"
   ]
  },
  {
   "cell_type": "markdown",
   "id": "6a6ee39e",
   "metadata": {},
   "source": [
    "## 10. Create a new strategy based on web searches or your own ideas. Demonstrate that the new strategy will result in increased or decreased winnings."
   ]
  },
  {
   "cell_type": "code",
   "execution_count": null,
   "id": "6662ab91",
   "metadata": {},
   "outputs": [],
   "source": [
    "N/A"
   ]
  }
 ],
 "metadata": {
  "kernelspec": {
   "display_name": "Python 3 (ipykernel)",
   "language": "python",
   "name": "python3"
  },
  "language_info": {
   "codemirror_mode": {
    "name": "ipython",
    "version": 3
   },
   "file_extension": ".py",
   "mimetype": "text/x-python",
   "name": "python",
   "nbconvert_exporter": "python",
   "pygments_lexer": "ipython3",
   "version": "3.10.8"
  }
 },
 "nbformat": 4,
 "nbformat_minor": 5
}

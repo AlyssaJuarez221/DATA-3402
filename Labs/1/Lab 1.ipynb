{
 "cells": [
  {
   "cell_type": "markdown",
   "id": "26457caa",
   "metadata": {},
   "source": [
    "# Lab 1- Tic Tac Toe\n",
    "\n",
    "In this lab your will build a n x n Tic Tac Toe game. As you do the exercises, make sure your solutions work for any size Tic Tac Toe game.\n",
    "\n",
    "## Exercise 1\n",
    "Write a function that creates an n by n matrix (of list of lists) which will represent the state of a Tie Tac Toe game. Let 0, 1, and 2 represent empty, \"X\", and \"O\", respectively."
   ]
  },
  {
   "cell_type": "code",
   "execution_count": 1,
   "id": "4c286b1e",
   "metadata": {},
   "outputs": [],
   "source": [
    "#Label Player Pieces\n",
    "\n",
    "player_1 = 1\n",
    "player_2 = 2\n",
    "empty = 0\n",
    "\n",
    "player_1_piece = \"X\"\n",
    "player_2_piece = \"O\"\n",
    "empty_space = \" \"\n",
    "\n",
    "space_character = {player_1: player_1_piece,\n",
    "                  player_2: player_2_piece,\n",
    "                  empty: empty_space} \n"
   ]
  },
  {
   "cell_type": "code",
   "execution_count": 2,
   "id": "d85a977f",
   "metadata": {},
   "outputs": [
    {
     "name": "stdout",
     "output_type": "stream",
     "text": [
      "\n",
      " ___ ___ ___\n",
      "| 0 | 0 | 0 |\n",
      " ___ ___ ___\n",
      "| 0 | 0 | 0 |\n",
      " ___ ___ ___\n",
      "| 0 | 0 | 0 |\n",
      " ___ ___ ___\n"
     ]
    }
   ],
   "source": [
    "#Initialize board\n",
    "\n",
    "board = [[0, 0, 0], [0, 0, 0], [0, 0, 0]]\n",
    "\n",
    "size = 3\n",
    "\n",
    "def draw_board_list():\n",
    "        \n",
    "    for x in range(size):\n",
    "        print('\\n ___ ___ ___')\n",
    "        print(\"|\", end = \"\")\n",
    "        \n",
    "        for y in range(size):\n",
    "            print (\"\", board[x][y], end = \" |\")\n",
    "    print(\"\\n ___ ___ ___\")\n",
    "        \n",
    "draw_board_list()"
   ]
  },
  {
   "cell_type": "markdown",
   "id": "2a46e9ee",
   "metadata": {},
   "source": [
    "## Exercise 2\n",
    "Write a function that takes 2 integers n and m as input and draws a n by m game board. For example the following is a 3x3 board:"
   ]
  },
  {
   "cell_type": "code",
   "execution_count": 3,
   "id": "1348b39a",
   "metadata": {},
   "outputs": [
    {
     "name": "stdout",
     "output_type": "stream",
     "text": [
      "Please input the desired width of board: 3\n",
      "Please input the desired height of board: 2\n",
      "\n",
      " ___ ___ \n",
      "| 0 | 0 |\n",
      " ___ ___ \n",
      "| 0 | 0 |\n",
      " ___ ___ \n",
      "| 0 | 0 |\n",
      " ___ ___ \n"
     ]
    }
   ],
   "source": [
    "def draw_board_input():\n",
    "    #create empty lists to append to\n",
    "    row = []\n",
    "    col = []\n",
    "    \n",
    "    #ask user for values\n",
    "    n = int(input(\"Please input the desired width of board: \"))\n",
    "    m = int(input(\"Please input the desired height of board: \"))\n",
    "    \n",
    "    #create matrix for board\n",
    "    for i in range(n):\n",
    "        row.append(0)\n",
    "    for i in range(m):\n",
    "        col.append(row)\n",
    "        \n",
    "    #drawing the board \n",
    "    width = len(row)\n",
    "    height = len(col)\n",
    "    \n",
    "    for x in range(width):\n",
    "        print(\"\\n\", '___ '*height)\n",
    "        print(\"|\", end = \"\")\n",
    "        \n",
    "        for y in range(height):\n",
    "            print (\"\", board[x][y], end = \" |\")\n",
    "    print(\"\\n\", \"___ \"*height)\n",
    "        \n",
    "draw_board_input()"
   ]
  },
  {
   "cell_type": "markdown",
   "id": "2fbad723",
   "metadata": {},
   "source": [
    "## Exercise 3\n",
    "Modify exercise 2, so that it takes a matrix of the form from exercise 1 and draws a tic-tac-tie board with \"X\"s and \"O\"s."
   ]
  },
  {
   "cell_type": "code",
   "execution_count": 16,
   "id": "ddb79f8b",
   "metadata": {},
   "outputs": [
    {
     "name": "stdout",
     "output_type": "stream",
     "text": [
      "Please input the desired width of board: 3\n",
      "Please input the desired height of board: 3\n",
      "[[0, 0, 0], [0, 0, 0], [0, 0, 0]]\n"
     ]
    }
   ],
   "source": [
    "#ask user for values\n",
    "m = int(input(\"Please input the desired width of board: \"))\n",
    "n = int(input(\"Please input the desired height of board: \"))\n",
    "\n",
    "board = []\n",
    "for i in range(n):\n",
    "    rows = []\n",
    "    for j in range(m):\n",
    "        rows.append(0)\n",
    "    board.append(rows)\n",
    "print(board)"
   ]
  },
  {
   "cell_type": "code",
   "execution_count": 17,
   "id": "86ddff34",
   "metadata": {},
   "outputs": [
    {
     "name": "stdout",
     "output_type": "stream",
     "text": [
      "\n",
      " --- --- --- \n",
      "|   |   |   |\n",
      " --- --- --- \n",
      "|   |   |   |\n",
      " --- --- --- \n",
      "|   |   |   |\n",
      " --- --- --- \n"
     ]
    }
   ],
   "source": [
    "def draw_board():\n",
    "        \n",
    "    #drawing the board \n",
    "    width = len(rows)\n",
    "    height = len(board)\n",
    "    \n",
    "    for x in range(height):\n",
    "        print(\"\\n\", '--- '*width)\n",
    "        print(\"|\", end = \"\")\n",
    "        \n",
    "        for y in range(width):\n",
    "            print (\"\", space_character[board[x][y]], end = \" |\")\n",
    "    print(\"\\n\", \"--- \"*width)\n",
    "    \n",
    "#NOTE: For the time being the board is empty because I have instructed for each value to be 0\n",
    "\n",
    "draw_board()"
   ]
  },
  {
   "cell_type": "markdown",
   "id": "53d77ab5",
   "metadata": {},
   "source": [
    "## Exercise 4\n",
    "Write a function that takes a n by n matrix representing a tic-tac-toe game, and returns -1, 0, 1, or 2 indicating the game is incomplete, the game is a draw, player 1 has won, or player 2 has one, respectively. Here are some example inputs you can use to test your code:"
   ]
  },
  {
   "cell_type": "code",
   "execution_count": 18,
   "id": "d24155b3",
   "metadata": {},
   "outputs": [],
   "source": [
    "def result():\n",
    "#Breakdown each winning stategy into lists\n",
    "    #rows lst is already made\n",
    "    \n",
    "    #col list\n",
    "    col_list = []\n",
    "    for i in range(n):\n",
    "        col = []\n",
    "        for j in range(m):\n",
    "            col.append(board[j][i])\n",
    "        col_list.append(col)\n",
    "        \n",
    "    #diagnal list \n",
    "    diag = []\n",
    "    anti_diag = []\n",
    "    for j in range(n):\n",
    "        diag.append(board[j][j])\n",
    "        anti_diag.append(board[j][m-j-1])\n",
    "    diag_list = [diag, anti_diag]\n",
    "    \n",
    "#Incomplete\n",
    "    #create list to filter through\n",
    "    lst = []\n",
    "    for i in range(len(board)):\n",
    "        for j in range(len(board[i])):\n",
    "            lst.append(board[i][j])\n",
    "    #check for empties\n",
    "    for i in lst:\n",
    "        if i == 0:\n",
    "            return -1\n",
    "#Player1\n",
    "    #rows\n",
    "    for i in range(n):\n",
    "        if board[i] == [player_1]*n:\n",
    "            return 1 \n",
    "    #col \n",
    "    col_win1 = []\n",
    "    for i in range(n):\n",
    "        col_win1.append(player_1)\n",
    "    \n",
    "    for i in col_list:\n",
    "        if i == col_win1:\n",
    "            return 1\n",
    "    #diag\n",
    "    diag_win1 = []\n",
    "    for i in range(m):\n",
    "        diag_win1.append(player_1)\n",
    "    \n",
    "    for i in diag_list:\n",
    "        if i == diag_win1:\n",
    "            return 1\n",
    "#Player2\n",
    "    #rows\n",
    "    for i in range(n):\n",
    "        if board[i] == [player_2]*n:\n",
    "            return 2 \n",
    "    #col \n",
    "    col_win2 = []\n",
    "    for i in range(n):\n",
    "        col_win2.append(player_2)\n",
    "    \n",
    "    for i in col_list:\n",
    "        if i == col_win2:\n",
    "            return 2\n",
    "    #diag\n",
    "    diag_win2 = []\n",
    "    for i in range(m):\n",
    "        diag_win2.append(player_2)\n",
    "    \n",
    "    for i in diag_list:\n",
    "        if i == diag_win2:\n",
    "            return 2\n",
    "#draw\n",
    "        #rows\n",
    "    for i in range(n):\n",
    "        if board[i] != [player_1]*n or [player_2]*n:\n",
    "            return 0 \n",
    "    #col \n",
    "    for i in col_list:\n",
    "        if i != col_win1 or col_win2:\n",
    "            return 0\n",
    "    #diag\n",
    "    for i in diag_list:\n",
    "        if i != diag_win1 or diag_win2:\n",
    "            return 0"
   ]
  },
  {
   "cell_type": "code",
   "execution_count": 19,
   "id": "221bad7d",
   "metadata": {},
   "outputs": [
    {
     "name": "stdout",
     "output_type": "stream",
     "text": [
      "\n",
      " --- --- --- \n",
      "| X | X | X |\n",
      " --- --- --- \n",
      "| X | O | X |\n",
      " --- --- --- \n",
      "| X | X | O |\n",
      " --- --- --- \n"
     ]
    },
    {
     "data": {
      "text/plain": [
       "1"
      ]
     },
     "execution_count": 19,
     "metadata": {},
     "output_type": "execute_result"
    }
   ],
   "source": [
    "#Row win (Player 1 wins)\n",
    "board = [[1, 1, 1], [1, 2, 1], [1, 1, 2]]\n",
    "draw_board()\n",
    "result()\n"
   ]
  },
  {
   "cell_type": "code",
   "execution_count": 20,
   "id": "a21939ed",
   "metadata": {},
   "outputs": [
    {
     "name": "stdout",
     "output_type": "stream",
     "text": [
      "\n",
      " --- --- --- \n",
      "| O | X | X |\n",
      " --- --- --- \n",
      "| O | X | O |\n",
      " --- --- --- \n",
      "| O | O | X |\n",
      " --- --- --- \n"
     ]
    },
    {
     "data": {
      "text/plain": [
       "2"
      ]
     },
     "execution_count": 20,
     "metadata": {},
     "output_type": "execute_result"
    }
   ],
   "source": [
    "#Col win (Player 2 wins)\n",
    "board = [[2, 1, 1], [2, 1, 2], [2, 2, 1]]\n",
    "draw_board()\n",
    "result()"
   ]
  },
  {
   "cell_type": "code",
   "execution_count": 21,
   "id": "491f2193",
   "metadata": {},
   "outputs": [
    {
     "name": "stdout",
     "output_type": "stream",
     "text": [
      "\n",
      " --- --- --- \n",
      "| X | O | O |\n",
      " --- --- --- \n",
      "| O | X | O |\n",
      " --- --- --- \n",
      "| O | O | X |\n",
      " --- --- --- \n"
     ]
    },
    {
     "data": {
      "text/plain": [
       "1"
      ]
     },
     "execution_count": 21,
     "metadata": {},
     "output_type": "execute_result"
    }
   ],
   "source": [
    "#Diag win (Player 1 wins)\n",
    "board = [[1, 2, 2], [2, 1, 2], [2, 2, 1]]\n",
    "draw_board()\n",
    "result()"
   ]
  },
  {
   "cell_type": "code",
   "execution_count": 165,
   "id": "9cbc8e77",
   "metadata": {},
   "outputs": [
    {
     "name": "stdout",
     "output_type": "stream",
     "text": [
      "\n",
      " --- --- --- \n",
      "| O | X | O |\n",
      " --- --- --- \n",
      "| X | X | O |\n",
      " --- --- --- \n",
      "| O | O | X |\n",
      " --- --- --- \n"
     ]
    },
    {
     "data": {
      "text/plain": [
       "0"
      ]
     },
     "execution_count": 165,
     "metadata": {},
     "output_type": "execute_result"
    }
   ],
   "source": [
    "#Draw\n",
    "board = [[2, 1, 2], [1, 1, 2], [2, 2, 1]]\n",
    "draw_board()\n",
    "result()"
   ]
  },
  {
   "cell_type": "code",
   "execution_count": 174,
   "id": "fcb8eb26",
   "metadata": {},
   "outputs": [
    {
     "name": "stdout",
     "output_type": "stream",
     "text": [
      "\n",
      " --- --- --- \n",
      "|   | X | O |\n",
      " --- --- --- \n",
      "| X | X | O |\n",
      " --- --- --- \n",
      "| O | O | X |\n",
      " --- --- --- \n"
     ]
    },
    {
     "data": {
      "text/plain": [
       "-1"
      ]
     },
     "execution_count": 174,
     "metadata": {},
     "output_type": "execute_result"
    }
   ],
   "source": [
    "#incomplete\n",
    "board = [[0, 1, 2], [1, 1, 2], [2, 2, 1]]\n",
    "draw_board()\n",
    "result()"
   ]
  },
  {
   "cell_type": "markdown",
   "id": "0ae1053c",
   "metadata": {},
   "source": [
    "## Exercise 5\n",
    "Write a function that takes a game board, player number, and (x,y) coordinates and places \"X\" or \"O\" in the correct location of the game board. Make sure that you only allow filling previously empty locations. Return True or False to indicate successful placement of \"X\" or \"O\"."
   ]
  },
  {
   "cell_type": "code",
   "execution_count": 22,
   "id": "10256f4f",
   "metadata": {},
   "outputs": [
    {
     "name": "stdout",
     "output_type": "stream",
     "text": [
      "Please input the desired width of board: 3\n",
      "Please input the desired height of board: 3\n",
      "\n",
      " --- --- --- \n",
      "|   |   |   |\n",
      " --- --- --- \n",
      "|   |   |   |\n",
      " --- --- --- \n",
      "|   |   |   |\n",
      " --- --- --- \n",
      "Please enter your desired move\n",
      "Row: 0\n",
      "Col: 0\n",
      "\n",
      " --- --- --- \n",
      "| X |   |   |\n",
      " --- --- --- \n",
      "|   |   |   |\n",
      " --- --- --- \n",
      "|   |   |   |\n",
      " --- --- --- \n"
     ]
    }
   ],
   "source": [
    "#create board\n",
    "m = int(input(\"Please input the desired width of board: \"))\n",
    "n = int(input(\"Please input the desired height of board: \"))\n",
    "\n",
    "board = []\n",
    "for i in range(n):\n",
    "    rows = []\n",
    "    for j in range(m):\n",
    "        rows.append(0)\n",
    "    board.append(rows)\n",
    "    \n",
    "def move(player):\n",
    "    print(\"Please enter your desired move\")\n",
    "    x = int(input(\"Row: \"))\n",
    "    y = int(input(\"Col: \"))\n",
    "    \n",
    "    if x not in range(n) or y not in range(m):\n",
    "        print(\"Location is invalid\")\n",
    "        return False\n",
    "    \n",
    "    if board[x][y] != empty:\n",
    "        return false\n",
    "    \n",
    "    if board[x][y] == empty:\n",
    "        board[x][y] = player\n",
    "        return True\n",
    "    \n",
    "\n",
    "draw_board()\n",
    "move(player_1)\n",
    "draw_board()"
   ]
  },
  {
   "cell_type": "markdown",
   "id": "b06944a6",
   "metadata": {},
   "source": [
    "## Exercise 6\n",
    "Modify Exercise 4 to show column and row labels so that players can specify location using \"A2\" or \"C1\"."
   ]
  },
  {
   "cell_type": "code",
   "execution_count": 23,
   "id": "66e91586",
   "metadata": {},
   "outputs": [
    {
     "name": "stdout",
     "output_type": "stream",
     "text": [
      "   1    2    3 \n",
      "  ---  ---  ---\n",
      "A |   |   |   | \n",
      "  ---  ---  ---\n",
      "B |   |   |   | \n",
      "  ---  ---  ---\n",
      "C |   |   |   | \n",
      "  ---  ---  ---\n"
     ]
    }
   ],
   "source": [
    "size = 3\n",
    "num_cols = size\n",
    "    \n",
    "row_names = \"ABCDEFGHIJKLMNOPQRSTUVWXYZ\"\n",
    "row_map = dict(zip(row_names,range(size)))\n",
    "col_names = list(map(str,range(1,size+1)))\n",
    "col_map = dict(zip(col_names,range(size)))\n",
    "\n",
    "\n",
    "def draw_board(board):\n",
    "\n",
    "    for j in range(size):\n",
    "         print(\"  \", col_names[j], end = \" \")\n",
    "    print()\n",
    "    print(\"  ---\"*num_cols)\n",
    "    for i in range(size):\n",
    "        print(row_names[i], \"|\",end=\" \")\n",
    "        for j in range(num_cols):\n",
    "            print(space_character[board[i][j]], end = \" \") \n",
    "            print(\"|\",end=\" \")\n",
    "        print()\n",
    "        print(\"  ---\"*num_cols)  \n",
    "    \n",
    "        \n",
    "board = [[empty]*size for i in range(size)]\n",
    "draw_board(board)"
   ]
  },
  {
   "cell_type": "markdown",
   "id": "e613e88a",
   "metadata": {},
   "source": [
    "## Exercise 7\n",
    "Write a function that takes a board, player number, and location specified as in exercise 6 and then calls exercise 5 to correctly modify the board."
   ]
  },
  {
   "cell_type": "code",
   "execution_count": 24,
   "id": "e7c9e512",
   "metadata": {},
   "outputs": [
    {
     "name": "stdout",
     "output_type": "stream",
     "text": [
      "   1    2    3 \n",
      "  ---  ---  ---\n",
      "A |   |   |   | \n",
      "  ---  ---  ---\n",
      "B |   |   |   | \n",
      "  ---  ---  ---\n",
      "C |   |   |   | \n",
      "  ---  ---  ---\n",
      "Please input a board location (example: A5)A1\n",
      "Player piece has been added\n",
      "   1    2    3 \n",
      "  ---  ---  ---\n",
      "A | X |   |   | \n",
      "  ---  ---  ---\n",
      "B |   |   |   | \n",
      "  ---  ---  ---\n",
      "C |   |   |   | \n",
      "  ---  ---  ---\n"
     ]
    }
   ],
   "source": [
    "def parse_location(location_string):\n",
    "    # Take in string of the form \"A1\" and map it to board location of the form (0,0)\n",
    "    \n",
    "    # require input to be a string\n",
    "    if not isinstance(location_string, str):\n",
    "        print(\"Error, location must be a string.\")\n",
    "        return False\n",
    "    \n",
    "    if not len(location_string)<=3:\n",
    "        print(\"Error, location must be of the form 'A3'\")\n",
    "        return False\n",
    "    \n",
    "    if len(location_string) == 2:\n",
    "        row = location_string[0]\n",
    "        col = location_string[1]\n",
    "    else:\n",
    "        row = location_string[0]\n",
    "        col = location_string[1:]\n",
    "        \n",
    "    if not row in row_map:\n",
    "        print(\"Invalid row.\")\n",
    "        return False\n",
    "    \n",
    "    if not col in col_map:\n",
    "        print(\"Invalid column.\")\n",
    "        return False\n",
    "    \n",
    "    return row_map[row], col_map[col]\n",
    "\n",
    "                                            #place piece on board\n",
    "def nice_move_piece(board, player, location_string):\n",
    "    location = parse_location(location_string)\n",
    "    i,j = location   \n",
    "    if not location_string:\n",
    "        print(\"Error, invalid location.\")\n",
    "    \n",
    "                                             #Check if move is on board\n",
    "    if i not in range(size) or j not in range(size):\n",
    "        print(\"Location is invalid\")\n",
    "        return False\n",
    "                                            #Check if space is empty\n",
    "    if board[i][j] == empty:\n",
    "        board[i][j] = player\n",
    "        print(\"Player piece has been added\")\n",
    "        return True\n",
    "    \n",
    "    \n",
    "    \n",
    "def take_move(board, player):\n",
    "    valid_move = False\n",
    "    \n",
    "    while not valid_move:\n",
    "        location_string = input(\"Please input a board location (example: A5)\")\n",
    "        if location_string == \"XX\":\n",
    "            return -1\n",
    "        valid_move = nice_move_piece(board, player, location_string)\n",
    "\n",
    "board = [[empty]*size for i in range(size)]\n",
    "draw_board(board)\n",
    "take_move(board, player_1)\n",
    "draw_board(board)"
   ]
  },
  {
   "cell_type": "markdown",
   "id": "eae51ed9",
   "metadata": {},
   "source": [
    "## Exercise 8\n",
    "Write a function is called with a board and player number, takes input from the player using python's input, and modifies the board using your function from exercise 7. Note that you should keep asking for input until you have gotten a valid input that results in a valid move."
   ]
  },
  {
   "cell_type": "code",
   "execution_count": null,
   "id": "5d75611a",
   "metadata": {},
   "outputs": [],
   "source": [
    "#My number 7 already does this"
   ]
  },
  {
   "cell_type": "markdown",
   "id": "8b2b37ff",
   "metadata": {},
   "source": [
    "## Exercise 9\n",
    "Use all of the previous exercises to implement a full tic-tac-toe game, where an appropriate board is drawn, 2 players are repeatedly asked for a location coordinates of where they wish to place a mark, and the game status is checked until a player wins or a draw occurs."
   ]
  },
  {
   "cell_type": "code",
   "execution_count": 37,
   "id": "74013535",
   "metadata": {},
   "outputs": [],
   "source": [
    "import time\n",
    "\n",
    "def tic_tac_toe():\n",
    "    print(\"---Hello! Welcome to Alyssa's game!!---\")\n",
    "    print('---------------------------------------------------')\n",
    "    time.sleep(1)\n",
    "    \n",
    "    size = int(input(\"Please input board size: \"))\n",
    "    board = [[empty]*size for i in range(size)]\n",
    "    #draw_board(board)\n",
    "    \n",
    "    player = player_1\n",
    "    \n",
    "    this_game_won = -1\n",
    "    \n",
    "    while this_game_won:\n",
    "        draw_board(board)\n",
    "        \n",
    "        if player == player_1:\n",
    "            print(\"Player 1 move:\")\n",
    "        else:\n",
    "            print(\"Player 2 move:\")\n",
    "        \n",
    "        this_move = take_move(board,player)\n",
    "        if this_move == -1:\n",
    "            print(\"Player has quit the game\")\n",
    "            break\n",
    "        \n",
    "        this_game_won = game_won(board)\n",
    "        \n",
    "        if player == player_1:\n",
    "            player = player_2\n",
    "        else:\n",
    "            player = player_1\n",
    "        \n",
    "    draw_board(board)\n",
    "    if this_game_won == -1:\n",
    "        print(\"Draw!\")\n",
    "    else:\n",
    "        print(\"The winner is player\", this_game_won)"
   ]
  },
  {
   "cell_type": "markdown",
   "id": "f196eb96",
   "metadata": {},
   "source": [
    "## Exercise 10\n",
    "Test that your game works for 5x5 Tic Tac Toe."
   ]
  },
  {
   "cell_type": "code",
   "execution_count": 38,
   "id": "a8324be0",
   "metadata": {},
   "outputs": [
    {
     "name": "stdout",
     "output_type": "stream",
     "text": [
      "---Hello! Welcome to Alyssa's game!!---\n",
      "---------------------------------------------------\n",
      "Please input board size: 5\n",
      "   1    2    3 "
     ]
    },
    {
     "ename": "IndexError",
     "evalue": "list index out of range",
     "output_type": "error",
     "traceback": [
      "\u001b[0;31m---------------------------------------------------------------------------\u001b[0m",
      "\u001b[0;31mIndexError\u001b[0m                                Traceback (most recent call last)",
      "Cell \u001b[0;32mIn [38], line 1\u001b[0m\n\u001b[0;32m----> 1\u001b[0m \u001b[43mtic_tac_toe\u001b[49m\u001b[43m(\u001b[49m\u001b[43m)\u001b[49m\n",
      "Cell \u001b[0;32mIn [37], line 17\u001b[0m, in \u001b[0;36mtic_tac_toe\u001b[0;34m()\u001b[0m\n\u001b[1;32m     14\u001b[0m this_game_won \u001b[38;5;241m=\u001b[39m \u001b[38;5;241m-\u001b[39m\u001b[38;5;241m1\u001b[39m\n\u001b[1;32m     16\u001b[0m \u001b[38;5;28;01mwhile\u001b[39;00m this_game_won:\n\u001b[0;32m---> 17\u001b[0m     \u001b[43mdraw_board\u001b[49m\u001b[43m(\u001b[49m\u001b[43mboard\u001b[49m\u001b[43m)\u001b[49m\n\u001b[1;32m     19\u001b[0m     \u001b[38;5;28;01mif\u001b[39;00m player \u001b[38;5;241m==\u001b[39m player_1:\n\u001b[1;32m     20\u001b[0m         \u001b[38;5;28mprint\u001b[39m(\u001b[38;5;124m\"\u001b[39m\u001b[38;5;124mPlayer 1 move:\u001b[39m\u001b[38;5;124m\"\u001b[39m)\n",
      "Cell \u001b[0;32mIn [23], line 13\u001b[0m, in \u001b[0;36mdraw_board\u001b[0;34m(board)\u001b[0m\n\u001b[1;32m     10\u001b[0m \u001b[38;5;28;01mdef\u001b[39;00m \u001b[38;5;21mdraw_board\u001b[39m(board):\n\u001b[1;32m     12\u001b[0m     \u001b[38;5;28;01mfor\u001b[39;00m j \u001b[38;5;129;01min\u001b[39;00m \u001b[38;5;28mrange\u001b[39m(size):\n\u001b[0;32m---> 13\u001b[0m          \u001b[38;5;28mprint\u001b[39m(\u001b[38;5;124m\"\u001b[39m\u001b[38;5;124m  \u001b[39m\u001b[38;5;124m\"\u001b[39m, \u001b[43mcol_names\u001b[49m\u001b[43m[\u001b[49m\u001b[43mj\u001b[49m\u001b[43m]\u001b[49m, end \u001b[38;5;241m=\u001b[39m \u001b[38;5;124m\"\u001b[39m\u001b[38;5;124m \u001b[39m\u001b[38;5;124m\"\u001b[39m)\n\u001b[1;32m     14\u001b[0m     \u001b[38;5;28mprint\u001b[39m()\n\u001b[1;32m     15\u001b[0m     \u001b[38;5;28mprint\u001b[39m(\u001b[38;5;124m\"\u001b[39m\u001b[38;5;124m  ---\u001b[39m\u001b[38;5;124m\"\u001b[39m\u001b[38;5;241m*\u001b[39mnum_cols)\n",
      "\u001b[0;31mIndexError\u001b[0m: list index out of range"
     ]
    }
   ],
   "source": [
    "tic_tac_toe()"
   ]
  },
  {
   "cell_type": "markdown",
   "id": "61d0cc23",
   "metadata": {},
   "source": [
    "## Exercise 11\n",
    "(Advanced / Challenge) Develop a version of the game where one player is the computer. Note that you don't need to do an extensive seach for the best move. You can have the computer simply protect against loosing and otherwise try to win with straight or diagonal patterns."
   ]
  },
  {
   "cell_type": "code",
   "execution_count": null,
   "id": "e7d766d3",
   "metadata": {},
   "outputs": [],
   "source": []
  },
  {
   "cell_type": "code",
   "execution_count": null,
   "id": "212a3567",
   "metadata": {},
   "outputs": [],
   "source": []
  }
 ],
 "metadata": {
  "kernelspec": {
   "display_name": "Python 3 (ipykernel)",
   "language": "python",
   "name": "python3"
  },
  "language_info": {
   "codemirror_mode": {
    "name": "ipython",
    "version": 3
   },
   "file_extension": ".py",
   "mimetype": "text/x-python",
   "name": "python",
   "nbconvert_exporter": "python",
   "pygments_lexer": "ipython3",
   "version": "3.10.8"
  }
 },
 "nbformat": 4,
 "nbformat_minor": 5
}

{
 "cells": [
  {
   "cell_type": "markdown",
   "id": "2a93e71b",
   "metadata": {},
   "source": [
    "\n",
    "# Lab 3- Object Oriented Programming\n",
    "\n",
    "## For all of the exercises below, make sure you provide tests of your solutions.\n",
    "\n",
    "\n",
    "### 1. Write a \"counter\" class that can be incremented up to a specified maximum value, will print an error if an attempt is made to increment beyond that value, and allows reseting the counter."
   ]
  },
  {
   "cell_type": "code",
   "execution_count": 213,
   "id": "f71f5b8a",
   "metadata": {},
   "outputs": [],
   "source": [
    "class counter:\n",
    "    def __init__(self,max_val):\n",
    "        self.val = 0\n",
    "        self.max_val = max_val\n",
    "        \n",
    "    def increment(self):\n",
    "        if self.val < self.max_val:\n",
    "            self.val += 1\n",
    "            return self.val\n",
    "        else:\n",
    "            print(\"Error\")\n",
    "            return None\n",
    "            \n",
    "    def reset(self):\n",
    "        self.val = 0"
   ]
  },
  {
   "cell_type": "code",
   "execution_count": 214,
   "id": "9b89d3fc",
   "metadata": {},
   "outputs": [
    {
     "name": "stdout",
     "output_type": "stream",
     "text": [
      "1\n",
      "2\n",
      "3\n",
      "4\n",
      "5\n",
      "6\n",
      "7\n",
      "8\n",
      "9\n",
      "10\n",
      "11\n",
      "12\n",
      "13\n",
      "14\n",
      "15\n",
      "16\n",
      "17\n",
      "18\n",
      "19\n",
      "20\n",
      "Error\n",
      "1\n"
     ]
    }
   ],
   "source": [
    "counter = counter(20)\n",
    "\n",
    "\n",
    "value = counter.increment()\n",
    "while(value != None):\n",
    "    print(value)\n",
    "    value = counter.increment()\n",
    "    \n",
    "counter.reset()\n",
    "print(counter.increment())"
   ]
  },
  {
   "cell_type": "markdown",
   "id": "981fb541",
   "metadata": {},
   "source": [
    "### 2. Copy and paste your solution to question 1 and modify it so that all the data held by the counter is private. Implement functions to check the value of the counter, check the maximum value, and check if the counter is at the maximum."
   ]
  },
  {
   "cell_type": "code",
   "execution_count": 215,
   "id": "4aea1699",
   "metadata": {},
   "outputs": [],
   "source": [
    "class counter:\n",
    "    def __init__(self,max_val):\n",
    "        self.__val = 0\n",
    "        self.__max_val = max_val\n",
    "    \n",
    "    def getMax(self):\n",
    "        return self.__max_val\n",
    "        \n",
    "    def increment(self):\n",
    "        if self.val < self.__max_val:\n",
    "            self.val += 1\n",
    "            return self.val\n",
    "        else:\n",
    "            print(\"Error\")\n",
    "            return None\n",
    "            \n",
    "    def reset(self):\n",
    "        self.val = 0"
   ]
  },
  {
   "cell_type": "code",
   "execution_count": 216,
   "id": "9e8f37c4",
   "metadata": {},
   "outputs": [
    {
     "data": {
      "text/plain": [
       "20"
      ]
     },
     "execution_count": 216,
     "metadata": {},
     "output_type": "execute_result"
    }
   ],
   "source": [
    "a = counter(20)\n",
    "counter.getMax(a)"
   ]
  },
  {
   "cell_type": "markdown",
   "id": "0f60d518",
   "metadata": {},
   "source": [
    "### 3. Implement a class to represent a rectangle, holding the length, width, and x and y coordinates of a corner of the object. Implement functions that compute the area and perimeter of the rectangle. Make all data members private and privide accessors to retrieve values of data members."
   ]
  },
  {
   "cell_type": "code",
   "execution_count": 217,
   "id": "1331d8cc",
   "metadata": {},
   "outputs": [],
   "source": [
    "class rectangle:\n",
    "    def __init__(self, length, width, x, y):\n",
    "        self.__length = length\n",
    "        self.__width = width\n",
    "        self.__x = x\n",
    "        self.__y = y\n",
    "        \n",
    "    def getLength(self):\n",
    "        return self.__length\n",
    "    def getWidth(self):\n",
    "        return self.__width\n",
    "    def getX(self):\n",
    "        return self.__x\n",
    "    def getY(self):\n",
    "        return self.__y\n",
    "        \n",
    "    def perimeter(self):\n",
    "        sides = (2 * self.__length)\n",
    "        tb = (2 * self.__width)\n",
    "        perimeter = sides + tb\n",
    "        return perimeter\n",
    "    \n",
    "    def area(self):\n",
    "        A = self.__length * self.__width\n",
    "        return A\n",
    "    \n",
    "    #def getPerimeter:\n",
    "#unsure how to set x & y equal to a corner this early into the assignment\n",
    "    "
   ]
  },
  {
   "cell_type": "code",
   "execution_count": 218,
   "id": "9e576158",
   "metadata": {},
   "outputs": [],
   "source": [
    "#my test rectangle\n",
    "rec = rectangle(3, 4, 1, 1)"
   ]
  },
  {
   "cell_type": "code",
   "execution_count": 219,
   "id": "43a6b096",
   "metadata": {},
   "outputs": [
    {
     "data": {
      "text/plain": [
       "3"
      ]
     },
     "execution_count": 219,
     "metadata": {},
     "output_type": "execute_result"
    }
   ],
   "source": [
    "#proof accessors work\n",
    "rectangle.getLength(rec)"
   ]
  },
  {
   "cell_type": "code",
   "execution_count": 220,
   "id": "69654a99",
   "metadata": {},
   "outputs": [
    {
     "data": {
      "text/plain": [
       "14"
      ]
     },
     "execution_count": 220,
     "metadata": {},
     "output_type": "execute_result"
    }
   ],
   "source": [
    "rectangle.perimeter(rec)"
   ]
  },
  {
   "cell_type": "code",
   "execution_count": 221,
   "id": "dd612ec5",
   "metadata": {},
   "outputs": [
    {
     "data": {
      "text/plain": [
       "12"
      ]
     },
     "execution_count": 221,
     "metadata": {},
     "output_type": "execute_result"
    }
   ],
   "source": [
    "rectangle.area(rec)"
   ]
  },
  {
   "cell_type": "markdown",
   "id": "fe294372",
   "metadata": {},
   "source": [
    "### 4. Implement a class to represent a circle, holding the radius and x and y coordinates of center of the object. Implement functions that compute the area and perimeter of the rectangle. Make all data members private and privide accessors to retrieve values of data members."
   ]
  },
  {
   "cell_type": "code",
   "execution_count": 222,
   "id": "eaab5036",
   "metadata": {},
   "outputs": [],
   "source": [
    "import math\n",
    "\n",
    "class circle:\n",
    "    def __init__(self, radius, x, y):\n",
    "        self.__radius = radius\n",
    "        self.__x = x\n",
    "        self.__y = y\n",
    "        \n",
    "    def getRadius(self):\n",
    "        return self.__radius\n",
    "    def getX(self):\n",
    "        return self.__x\n",
    "    def getY(self):\n",
    "        return self.__y\n",
    "        \n",
    "    def perimeter(self):\n",
    "        perimeter = 2 * math.pi * self.__radius\n",
    "        return perimeter\n",
    "        \n",
    "    def area(self):\n",
    "        A = 2 * math.pi * (self.__radius**2)\n",
    "        return A\n",
    "    \n",
    "#unsure how to set coordinates this early in the assignement "
   ]
  },
  {
   "cell_type": "code",
   "execution_count": 223,
   "id": "1faa4aef",
   "metadata": {},
   "outputs": [
    {
     "data": {
      "text/plain": [
       "12.566370614359172"
      ]
     },
     "execution_count": 223,
     "metadata": {},
     "output_type": "execute_result"
    }
   ],
   "source": [
    "cir = circle(2, 1, 1)\n",
    "circle.perimeter(cir)"
   ]
  },
  {
   "cell_type": "code",
   "execution_count": 224,
   "id": "9b660694",
   "metadata": {},
   "outputs": [
    {
     "data": {
      "text/plain": [
       "25.132741228718345"
      ]
     },
     "execution_count": 224,
     "metadata": {},
     "output_type": "execute_result"
    }
   ],
   "source": [
    "circle.area(cir)"
   ]
  },
  {
   "cell_type": "code",
   "execution_count": 225,
   "id": "090a55e0",
   "metadata": {},
   "outputs": [
    {
     "data": {
      "text/plain": [
       "2"
      ]
     },
     "execution_count": 225,
     "metadata": {},
     "output_type": "execute_result"
    }
   ],
   "source": [
    "#proof accessors work\n",
    "circle.getRadius(cir)"
   ]
  },
  {
   "cell_type": "markdown",
   "id": "a178fa85",
   "metadata": {},
   "source": [
    "### 5. Implement a common base class for the classes implemented in 3 and 4 above which implements all common methods as not implemented functions (virtual). Re-implement those classes to inherit from the base class and overload the functions accordingly"
   ]
  },
  {
   "cell_type": "code",
   "execution_count": 226,
   "id": "eeb81bfe",
   "metadata": {},
   "outputs": [],
   "source": [
    "class Shape:\n",
    "    \n",
    "    def area(self):\n",
    "        pass\n",
    "    \n",
    "class rectangle(Shape):\n",
    "    def __init__(self, length, width, x, y):\n",
    "        self.__length = length\n",
    "        self.__width = width\n",
    "        self.__x = x\n",
    "        self.__y = y\n",
    "        \n",
    "    def getLength(self):\n",
    "        return self.__length\n",
    "    def getWidth(self):\n",
    "        return self.__width\n",
    "    def getX(self):\n",
    "        return self.__x\n",
    "    def getY(self):\n",
    "        return self.__y\n",
    "        \n",
    "    def perimeter(self):\n",
    "        sides = (2 * self.__length)\n",
    "        tb = (2 * self.__width)\n",
    "        perimeter = sides + tb\n",
    "        return perimeter\n",
    "    \n",
    "    def area(self):\n",
    "        A = self.__length * self.__width\n",
    "        return A\n",
    "    \n",
    "\n",
    "class circle(Shape):\n",
    "    def __init__(self, radius, x, y):\n",
    "        self.__radius = radius\n",
    "        self.__x = x\n",
    "        self.__y = y\n",
    "        \n",
    "    def getRadius(self):\n",
    "        return self.__radius\n",
    "    def getX(self):\n",
    "        return self.__x\n",
    "    def getY(self):\n",
    "        return self.__y\n",
    "        \n",
    "    def perimeter(self):\n",
    "        perimeter = 2 * math.pi * self.__radius\n",
    "        return perimeter\n",
    "        \n",
    "    def area(self):\n",
    "        A = 2 * math.pi * (self.__radius**2)\n",
    "        return A\n",
    "    \n",
    "#unsure how to set coordinates this early in the assignement"
   ]
  },
  {
   "cell_type": "code",
   "execution_count": 227,
   "id": "5741edea",
   "metadata": {},
   "outputs": [],
   "source": [
    "#Proof"
   ]
  },
  {
   "cell_type": "markdown",
   "id": "7b231c08",
   "metadata": {},
   "source": [
    "### 6. Implement an analogous triangle class."
   ]
  },
  {
   "cell_type": "code",
   "execution_count": 228,
   "id": "206dd238",
   "metadata": {},
   "outputs": [],
   "source": [
    "class Triangle(Shape):\n",
    "    def __init__(self, base, height, x, y):\n",
    "        self.__base = base\n",
    "        self.__height = height\n",
    "        self.__x = x\n",
    "        self.__y = y\n",
    "        \n",
    "    def getBase(self):\n",
    "        return self.__base\n",
    "    def getHeight(self):\n",
    "        return self.__height\n",
    "    def getX(self):\n",
    "        return self.__x\n",
    "    def getY(self):\n",
    "        return self.__y\n",
    "        \n",
    "    def perimeter(self):\n",
    "        c = self.__base**2 + self.__height**2\n",
    "        c2 = math.sqrt(c)\n",
    "        perimeter = c2 + self.__base + self.__height\n",
    "        return perimeter\n",
    "    \n",
    "    def area(self):\n",
    "        A = (self.__height * self.__base)/2\n",
    "        return A"
   ]
  },
  {
   "cell_type": "code",
   "execution_count": 229,
   "id": "90b6bb1b",
   "metadata": {},
   "outputs": [
    {
     "data": {
      "text/plain": [
       "2"
      ]
     },
     "execution_count": 229,
     "metadata": {},
     "output_type": "execute_result"
    }
   ],
   "source": [
    "tri = Triangle(2, 2, 1, 1)\n",
    "Triangle.getBase(tri)"
   ]
  },
  {
   "cell_type": "code",
   "execution_count": 230,
   "id": "5a225e21",
   "metadata": {},
   "outputs": [
    {
     "data": {
      "text/plain": [
       "6.82842712474619"
      ]
     },
     "execution_count": 230,
     "metadata": {},
     "output_type": "execute_result"
    }
   ],
   "source": [
    "Triangle.perimeter(tri)"
   ]
  },
  {
   "cell_type": "code",
   "execution_count": 231,
   "id": "5e69b61c",
   "metadata": {},
   "outputs": [
    {
     "data": {
      "text/plain": [
       "2.0"
      ]
     },
     "execution_count": 231,
     "metadata": {},
     "output_type": "execute_result"
    }
   ],
   "source": [
    "Triangle.area(tri)"
   ]
  },
  {
   "cell_type": "markdown",
   "id": "21053b2b",
   "metadata": {},
   "source": [
    "### 7. Add a function to the object classes that tests if a given set of x and y coordinates are inside of the object."
   ]
  },
  {
   "cell_type": "code",
   "execution_count": 232,
   "id": "7f4f850f",
   "metadata": {},
   "outputs": [],
   "source": [
    "class test_coord:\n",
    "    def __init__(self, x, y, width, height):\n",
    "        self.x = x\n",
    "        self.y = y\n",
    "        self.width = width\n",
    "        self.height = height\n",
    "        \n",
    "    # Test if the Coord is in the perimeter of a given rectangle\n",
    "    def coord(self, point_x, point_y):\n",
    "        if (self.x <= point_x <= self.x + self.width and\n",
    "            self.y <= point_y <= self.y + self.height): \n",
    "            return True\n",
    "        else:\n",
    "            return False"
   ]
  },
  {
   "cell_type": "code",
   "execution_count": 233,
   "id": "4fb9c89d",
   "metadata": {},
   "outputs": [
    {
     "data": {
      "text/plain": [
       "True"
      ]
     },
     "execution_count": 233,
     "metadata": {},
     "output_type": "execute_result"
    }
   ],
   "source": [
    "pixel = test_coord(10,20,30,40)\n",
    "pixel.coord(15,20)"
   ]
  },
  {
   "cell_type": "code",
   "execution_count": 234,
   "id": "d7ff4a70",
   "metadata": {},
   "outputs": [
    {
     "data": {
      "text/plain": [
       "False"
      ]
     },
     "execution_count": 234,
     "metadata": {},
     "output_type": "execute_result"
    }
   ],
   "source": [
    "pixel.coord(100,100)"
   ]
  },
  {
   "cell_type": "markdown",
   "id": "c7018b94",
   "metadata": {},
   "source": [
    "### 8. Add a function to the object classes that return a list of up to 16 pairs of x and y points on the parameter of the object."
   ]
  },
  {
   "cell_type": "code",
   "execution_count": 235,
   "id": "cc5c91a1",
   "metadata": {},
   "outputs": [],
   "source": [
    "class peri_points:\n",
    "    def __init__(self, x, y):\n",
    "        self.x = x\n",
    "        self.y = y\n",
    "        \n",
    "    def __str__(self):\n",
    "        return (self.x, self.y)\n",
    "\n",
    "def points():\n",
    "    pairs = []\n",
    "    for x in range(17):\n",
    "        for y in range(17):\n",
    "            if x == y:\n",
    "                point = peri_points(x,y)\n",
    "                pairs.append(point)\n",
    "    return pairs"
   ]
  },
  {
   "cell_type": "code",
   "execution_count": 236,
   "id": "be5d26d4",
   "metadata": {},
   "outputs": [
    {
     "ename": "TypeError",
     "evalue": "'function' object is not iterable",
     "output_type": "error",
     "traceback": [
      "\u001b[0;31m---------------------------------------------------------------------------\u001b[0m",
      "\u001b[0;31mTypeError\u001b[0m                                 Traceback (most recent call last)",
      "Cell \u001b[0;32mIn [236], line 2\u001b[0m\n\u001b[1;32m      1\u001b[0m perimeter_values \u001b[38;5;241m=\u001b[39m points()\n\u001b[0;32m----> 2\u001b[0m \u001b[38;5;28;01mfor\u001b[39;00m point \u001b[38;5;129;01min\u001b[39;00m points:\n\u001b[1;32m      3\u001b[0m     \u001b[38;5;28mprint\u001b[39m(\u001b[38;5;124mf\u001b[39m\u001b[38;5;124m\"\u001b[39m\u001b[38;5;124m(\u001b[39m\u001b[38;5;132;01m{\u001b[39;00mpoint\u001b[38;5;241m.\u001b[39mx\u001b[38;5;132;01m}\u001b[39;00m\u001b[38;5;124m,\u001b[39m\u001b[38;5;132;01m{\u001b[39;00mpoint\u001b[38;5;241m.\u001b[39my\u001b[38;5;132;01m}\u001b[39;00m\u001b[38;5;124m)\u001b[39m\u001b[38;5;124m\"\u001b[39m)\n",
      "\u001b[0;31mTypeError\u001b[0m: 'function' object is not iterable"
     ]
    }
   ],
   "source": [
    "perimeter_values = points()\n",
    "for point in points:\n",
    "    print(f\"({point.x},{point.y})\")"
   ]
  },
  {
   "cell_type": "markdown",
   "id": "3ae403f5",
   "metadata": {},
   "source": [
    "### 9. Add a function in the base class of the object classes that returns true/false testing that the object overlaps with another object."
   ]
  },
  {
   "cell_type": "code",
   "execution_count": 237,
   "id": "7915f7c3",
   "metadata": {},
   "outputs": [],
   "source": [
    "class Object:\n",
    "    def __init__(self, x, y, width, height):\n",
    "        self.x = x\n",
    "        self.y = y\n",
    "        self.width = width\n",
    "        self.height = height\n",
    "\n",
    "    def overlap(self, other):\n",
    "        if (self.x + self.width < other.x or\n",
    "            other.x + other.width < self.x or\n",
    "            self.y + self.height < other.y or\n",
    "            other.y + other.height < self.y):\n",
    "            return False\n",
    "        else:\n",
    "            return True"
   ]
  },
  {
   "cell_type": "code",
   "execution_count": 246,
   "id": "dc59574a",
   "metadata": {
    "scrolled": true
   },
   "outputs": [
    {
     "name": "stdout",
     "output_type": "stream",
     "text": [
      "True\n"
     ]
    }
   ],
   "source": [
    "a = Object(0, 0, 3, 4)\n",
    "b = Object(0, 0, 2, 1)\n",
    "if a.overlap(b):\n",
    "    print('True') \n",
    "else:\n",
    "    print('False')"
   ]
  },
  {
   "cell_type": "code",
   "execution_count": 245,
   "id": "dd76c1e4",
   "metadata": {},
   "outputs": [
    {
     "name": "stdout",
     "output_type": "stream",
     "text": [
      "False\n"
     ]
    }
   ],
   "source": [
    "a = Object(0, 0, 3, 4)\n",
    "b = Object(10, 10, 2, 1)\n",
    "if a.overlap(b):\n",
    "    print('True') \n",
    "else:\n",
    "    print('False')"
   ]
  },
  {
   "cell_type": "markdown",
   "id": "3d743637",
   "metadata": {},
   "source": [
    "### 10. Copy the Canvas class from lecture to in a python file creating a paint module. Copy your classes from above into the module and implement paint functions. Implement a CompoundShape class. Create a simple drawing demonstrating that all of your classes are working."
   ]
  },
  {
   "cell_type": "code",
   "execution_count": 240,
   "id": "251ab61b",
   "metadata": {},
   "outputs": [],
   "source": [
    "#copied code\n",
    "class Canvas:\n",
    "    def __init__(self, width, height):\n",
    "        self.width = width\n",
    "        self.height = height\n",
    "        self.data = [[' '] * width for i in range(height)]\n",
    "\n",
    "    def set_pixel(self, row, col, char='*'):\n",
    "        self.data[row][col] = char\n",
    "\n",
    "    def get_pixel(self, row, col):\n",
    "        return self.data[row][col]\n",
    "    \n",
    "    def v_line(self, x, y, w, **kargs):\n",
    "        for i in range(x,x+w):\n",
    "            self.set_pixel(i,y, **kargs)\n",
    "\n",
    "    def h_line(self, x, y, h, **kargs):\n",
    "        for i in range(y,y+h):\n",
    "            self.set_pixel(x,i, **kargs)\n",
    "            \n",
    "    def line(self, x1, y1, x2, y2, **kargs):\n",
    "        slope = (y2-y1) / (x2-x1)\n",
    "        for y in range(y1,y2):\n",
    "            x= int(slope * y)\n",
    "            self.set_pixel(x,y, **kargs)\n",
    "            \n",
    "    def display(self):\n",
    "        print(\"\\n\".join([\"\".join(row) for row in self.data]))"
   ]
  },
  {
   "cell_type": "code",
   "execution_count": 241,
   "id": "53a313c5",
   "metadata": {},
   "outputs": [],
   "source": [
    "# copied code\n",
    "class Shape:\n",
    "    def __init__(self, name=\"\", **kwargs):\n",
    "        self.name=name\n",
    "        self.kwargs=kwargs\n",
    "    \n",
    "    def paint(self, canvas): pass\n",
    "\n",
    "class Rectangle(Shape):\n",
    "    def __init__(self, x, y, w, h, **kwargs):\n",
    "        Shape.__init__(self, **kwargs)\n",
    "        self.x = x\n",
    "        self.y = y\n",
    "        self.w = w\n",
    "        self.h = h\n",
    "\n",
    "    def paint(self, canvas):\n",
    "        canvas.v_line(self.x, self.y, self.w, **self.kwargs)\n",
    "        canvas.v_line(self.x, self.y + self.h, self.w, **self.kwargs)\n",
    "        canvas.h_line(self.x, self.y, self.h, **self.kwargs)\n",
    "        canvas.h_line(self.x + self.w, self.y, self.h, **self.kwargs)\n",
    "\n",
    "class Square(Rectangle):\n",
    "    def __init__(self, x, y, size, **kwargs):\n",
    "        Rectangle.__init__(self, x, y, size, size, **kwargs)\n",
    "\n",
    "class Line(Shape):\n",
    "    def __init__(self, x1, y1, x2, y2,  **kwargs):\n",
    "        Shape.__init__(self, **kwargs)\n",
    "        self.x1=x1\n",
    "        self.y1=y1\n",
    "        self.x2=x2\n",
    "        self.y2=y2\n",
    "        \n",
    "    def paint(self, canvas):\n",
    "        canvas.line(self.x1,self.y1,self.x2,self.y2)\n",
    "        \n",
    "class CompoundShape(Shape):\n",
    "    def __init__(self, shapes):\n",
    "        self.shapes = shapes\n",
    "\n",
    "    def paint(self, canvas):\n",
    "        for s in self.shapes:\n",
    "            s.paint(canvas)"
   ]
  },
  {
   "cell_type": "code",
   "execution_count": 242,
   "id": "06986469",
   "metadata": {},
   "outputs": [
    {
     "name": "stdout",
     "output_type": "stream",
     "text": [
      "                                                  \n",
      "                                                  \n",
      "                                                  \n",
      "  *                                               \n",
      "   *                                              \n",
      "     ^^^^^^^^^^^^^^^^^^^^^                        \n",
      "    *^                   ^                        \n",
      "     *                   ^                        \n",
      "     ^                   ^                        \n",
      "     ^*                  ^                        \n",
      "     ^ *                 ^                        \n",
      "     ^                   ^                        \n",
      "     ^  *                ^                        \n",
      "     ^   *               ^                        \n",
      "     ^                   ^                        \n",
      "     ^    *              ^                        \n",
      "     ^                   ^                        \n",
      "     ^     *             ^                        \n",
      "     ^      *            ^                        \n",
      "     ^                   ^                        \n",
      "     ^       *           ^                        \n",
      "     ^        *          ^                        \n",
      "     ^                   ^                        \n",
      "     ^         *         ^                        \n",
      "     ^          *        ^                        \n",
      "     ^^^^^^^^^^^^^^^^^^^^                         \n",
      "                 *                                \n",
      "                  *                               \n",
      "                                                  \n",
      "                                                  \n",
      "                                                  \n",
      "                                                  \n",
      "                                                  \n",
      "                                                  \n",
      "                                                  \n",
      "                                                  \n",
      "                                                  \n",
      "                                                  \n",
      "                                                  \n",
      "                                                  \n"
     ]
    }
   ],
   "source": [
    "#test copied code with code from lecture\n",
    "c1=Canvas(50,40)\n",
    "s1=Square(5,5,20,char=\"^\")\n",
    "s1.paint(c1)\n",
    "l1=Line(2,2,13,19)\n",
    "l1.paint(c1)\n",
    "c1.display()"
   ]
  },
  {
   "cell_type": "markdown",
   "id": "cff9ef99",
   "metadata": {},
   "source": [
    "### 11. Create a RasterDrawing class. Demonstrate that you can create a drawing made of several shapes, paint the drawing, modify the drawing, and paint it again."
   ]
  },
  {
   "cell_type": "code",
   "execution_count": 250,
   "id": "f997a698",
   "metadata": {},
   "outputs": [],
   "source": [
    "class RasterDrawing:\n",
    "    def __init__(self):\n",
    "        self.shapes=dict()\n",
    "        self.shape_names=list()\n",
    "        \n",
    "    def add_shape(self,shape):\n",
    "        if shape.name == \"\":\n",
    "            shape.name = self.assign_name()\n",
    "        \n",
    "        self.shapes[shape.name]=shape\n",
    "        self.shape_names.append(shape.name)\n",
    "        \n",
    "    def paint(self,canvas):\n",
    "        for shape_name in self.shape_names:\n",
    "            self.shapes[shape_name].paint(canvas)\n",
    "            \n",
    "    def assign_name(self):\n",
    "        name_base=\"shape\"\n",
    "        name = name_base+\"_0\"\n",
    "        \n",
    "        i=1\n",
    "        while name in self.shapes:\n",
    "            name = name_base+\"_\"+str(i)\n",
    "            \n",
    "        return name\n",
    "            "
   ]
  },
  {
   "cell_type": "code",
   "execution_count": 256,
   "id": "227b3158",
   "metadata": {},
   "outputs": [
    {
     "name": "stdout",
     "output_type": "stream",
     "text": [
      "                                        \n",
      "                                        \n",
      "                                        \n",
      "  *                                     \n",
      "   *                                    \n",
      "     ^^^^^^^^^^^^^^^^^^^^^              \n",
      "    *^                   ^              \n",
      "     *                   ^              \n",
      "     ^                   ^              \n",
      "     ^*                  ^              \n",
      "     ^ *                 ^              \n",
      "     ^                   ^              \n",
      "     ^  *                ^              \n",
      "     ^   *               ^              \n",
      "     ^                   ^              \n",
      "     ^    *              ^              \n",
      "     ^                   ^              \n",
      "     ^     *             ^              \n",
      "     ^      *            ^              \n",
      "     ^                   ^              \n",
      "     ^       *           ^              \n",
      "     ^        *          ^              \n",
      "     ^                   ^              \n",
      "     ^         *         ^              \n",
      "     ^          *        ^              \n",
      "     ^^^^^^^^^^^^^^^^^^^^               \n",
      "                 *                      \n",
      "                  *                     \n",
      "                                        \n",
      "                                        \n",
      "                                        \n",
      "                                        \n",
      "                                        \n",
      "                                        \n",
      "                                        \n",
      "                                        \n",
      "                                        \n",
      "                                        \n",
      "                                        \n",
      "                                        \n"
     ]
    }
   ],
   "source": [
    "c=Canvas(40,40)\n",
    "r=RasterDrawing()\n",
    "\n",
    "r.add_shape(Square(5,5,20,char=\"^\"))\n",
    "r.add_shape(Line(2,2,13,19))\n",
    "r.paint(c)\n",
    "\n",
    "c.display()"
   ]
  },
  {
   "cell_type": "markdown",
   "id": "b242d217",
   "metadata": {},
   "source": [
    "### 12. Implement the ability to load/save raster drawings and demonstate that your method works. One way to implement this ability:\n",
    "* Overload __repr__ functions of all objects to return strings of the python code that would construct the object.\n",
    "\n",
    "* In the save method of raster drawing class, store the representations into the file.\n",
    "\n",
    "* Write a loader function that reads the file and uses eval to instantiate the object."
   ]
  },
  {
   "cell_type": "code",
   "execution_count": 257,
   "id": "dbacd411",
   "metadata": {},
   "outputs": [],
   "source": [
    "class foo:\n",
    "    def __init__(self,a,b=None):\n",
    "        self.a=a\n",
    "        self.b=b\n",
    "        \n",
    "    def __repr__(self):\n",
    "        return \"foo(\"+repr(self.a)+\",\"+repr(self.b)+\")\"\n",
    "    \n",
    "    def save(self,filename):\n",
    "        f=open(filename,\"w\")\n",
    "        f.write(self.__repr__())\n",
    "        f.close()\n",
    "        \n",
    "def foo_loader(filename):\n",
    "    f=open(filename,\"r\")\n",
    "    tmp=eval(f.read())\n",
    "    f.close()\n",
    "    return tmp"
   ]
  },
  {
   "cell_type": "code",
   "execution_count": 258,
   "id": "f561fe84",
   "metadata": {},
   "outputs": [
    {
     "name": "stdout",
     "output_type": "stream",
     "text": [
      "foo(1,'hello')\n"
     ]
    }
   ],
   "source": [
    "# Test\n",
    "print(repr(foo(1,\"hello\")))"
   ]
  },
  {
   "cell_type": "code",
   "execution_count": 259,
   "id": "d6a76a8f",
   "metadata": {},
   "outputs": [],
   "source": [
    "# Create an object and save it\n",
    "ff=foo(1,\"hello\")\n",
    "ff.save(\"Test.foo\")"
   ]
  },
  {
   "cell_type": "code",
   "execution_count": 260,
   "id": "952edfd1",
   "metadata": {},
   "outputs": [
    {
     "name": "stdout",
     "output_type": "stream",
     "text": [
      "foo(1,'hello')"
     ]
    }
   ],
   "source": [
    "# Check contents of the saved file\n",
    "!cat Test.foo"
   ]
  },
  {
   "cell_type": "code",
   "execution_count": 261,
   "id": "4e3c429d",
   "metadata": {},
   "outputs": [
    {
     "data": {
      "text/plain": [
       "foo(1,'hello')"
      ]
     },
     "execution_count": 261,
     "metadata": {},
     "output_type": "execute_result"
    }
   ],
   "source": [
    "# Load the object\n",
    "ff_reloaded=foo_loader(\"Test.foo\")\n",
    "ff_reloaded"
   ]
  }
 ],
 "metadata": {
  "kernelspec": {
   "display_name": "Python 3 (ipykernel)",
   "language": "python",
   "name": "python3"
  },
  "language_info": {
   "codemirror_mode": {
    "name": "ipython",
    "version": 3
   },
   "file_extension": ".py",
   "mimetype": "text/x-python",
   "name": "python",
   "nbconvert_exporter": "python",
   "pygments_lexer": "ipython3",
   "version": "3.10.8"
  }
 },
 "nbformat": 4,
 "nbformat_minor": 5
}

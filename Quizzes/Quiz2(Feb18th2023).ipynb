{
 "cells": [
  {
   "cell_type": "markdown",
   "id": "8942e06d",
   "metadata": {},
   "source": [
    "# Quiz 2"
   ]
  },
  {
   "cell_type": "code",
   "execution_count": 1,
   "id": "a953f965",
   "metadata": {},
   "outputs": [],
   "source": [
    "class Card:\n",
    "             \n",
    "    def __init__(self, suit, val):\n",
    "        self.val = val\n",
    "        self.suit = suit\n",
    "        self.__str__()\n",
    "        \n",
    "    def __str__(self):\n",
    "        return '({} of {})'.format(self.val, self.suit)\n",
    "class deck:             #Part 2.C\n",
    "    \n",
    "    def __init__(self, shuffled = False, num_cards = 0, show = False):\n",
    "        self.num_cards = num_cards\n",
    "        self.cards = []\n",
    "        self.build()\n",
    "        if shuffled == True:\n",
    "            self.shuffle()\n",
    "        if show == True:\n",
    "            self.show()\n",
    "        \n",
    "    def build(self):\n",
    "        suit = ('Spades', 'Clubs', 'Diamonds', 'Hearts')\n",
    "        for suit in suit:\n",
    "            for val in range(1, 14):\n",
    "                self.cards.append(Card(suit, val))\n",
    "            \n",
    "    def show(self):\n",
    "        for card in self.cards:\n",
    "            print(card)"
   ]
  },
  {
   "cell_type": "code",
   "execution_count": 4,
   "id": "135d6353",
   "metadata": {},
   "outputs": [
    {
     "name": "stdout",
     "output_type": "stream",
     "text": [
      "(1 of Spades)\n",
      "(2 of Spades)\n",
      "(3 of Spades)\n",
      "(4 of Spades)\n",
      "(5 of Spades)\n",
      "(6 of Spades)\n",
      "(7 of Spades)\n",
      "(8 of Spades)\n",
      "(9 of Spades)\n",
      "(10 of Spades)\n",
      "(11 of Spades)\n",
      "(12 of Spades)\n",
      "(13 of Spades)\n",
      "(1 of Clubs)\n",
      "(2 of Clubs)\n",
      "(3 of Clubs)\n",
      "(4 of Clubs)\n",
      "(5 of Clubs)\n",
      "(6 of Clubs)\n",
      "(7 of Clubs)\n",
      "(8 of Clubs)\n",
      "(9 of Clubs)\n",
      "(10 of Clubs)\n",
      "(11 of Clubs)\n",
      "(12 of Clubs)\n",
      "(13 of Clubs)\n",
      "(1 of Diamonds)\n",
      "(2 of Diamonds)\n",
      "(3 of Diamonds)\n",
      "(4 of Diamonds)\n",
      "(5 of Diamonds)\n",
      "(6 of Diamonds)\n",
      "(7 of Diamonds)\n",
      "(8 of Diamonds)\n",
      "(9 of Diamonds)\n",
      "(10 of Diamonds)\n",
      "(11 of Diamonds)\n",
      "(12 of Diamonds)\n",
      "(13 of Diamonds)\n",
      "(1 of Hearts)\n",
      "(2 of Hearts)\n",
      "(3 of Hearts)\n",
      "(4 of Hearts)\n",
      "(5 of Hearts)\n",
      "(6 of Hearts)\n",
      "(7 of Hearts)\n",
      "(8 of Hearts)\n",
      "(9 of Hearts)\n",
      "(10 of Hearts)\n",
      "(11 of Hearts)\n",
      "(12 of Hearts)\n",
      "(13 of Hearts)\n"
     ]
    }
   ],
   "source": [
    "deck = deck.show()\n",
    "deck"
   ]
  }
 ],
 "metadata": {
  "kernelspec": {
   "display_name": "Python 3 (ipykernel)",
   "language": "python",
   "name": "python3"
  },
  "language_info": {
   "codemirror_mode": {
    "name": "ipython",
    "version": 3
   },
   "file_extension": ".py",
   "mimetype": "text/x-python",
   "name": "python",
   "nbconvert_exporter": "python",
   "pygments_lexer": "ipython3",
   "version": "3.10.8"
  }
 },
 "nbformat": 4,
 "nbformat_minor": 5
}
